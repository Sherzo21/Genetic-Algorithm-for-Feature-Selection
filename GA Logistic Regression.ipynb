{
 "cells": [
  {
   "cell_type": "code",
   "execution_count": 11,
   "id": "30f61ee2",
   "metadata": {},
   "outputs": [],
   "source": [
    "from sklearn_genetic import GAFeatureSelectionCV, ExponentialAdapter\n",
    "from sklearn.model_selection import train_test_split\n",
    "from sklearn.linear_model import LogisticRegression\n",
    "from sklearn.metrics import accuracy_score, precision_score, recall_score, f1_score\n",
    "import numpy as np\n",
    "import pandas as pd"
   ]
  },
  {
   "cell_type": "code",
   "execution_count": 12,
   "id": "63b0af9d",
   "metadata": {},
   "outputs": [],
   "source": [
    "# Load data\n",
    "data = pd.read_csv('emotions.csv')\n",
    "X = data.drop('label', axis=1)\n",
    "y = data['label']"
   ]
  },
  {
   "cell_type": "code",
   "execution_count": 13,
   "id": "8493c20c",
   "metadata": {},
   "outputs": [],
   "source": [
    "# Add noise\n",
    "noise = np.random.uniform(5, 10, size=(X.shape[0], 5))\n",
    "X = np.hstack((X, noise))"
   ]
  },
  {
   "cell_type": "code",
   "execution_count": 14,
   "id": "881c64ec",
   "metadata": {},
   "outputs": [],
   "source": [
    "# Split data into training and testing sets\n",
    "X_train, X_test, y_train, y_test = train_test_split(X, y, test_size=0.33, random_state=0)"
   ]
  },
  {
   "cell_type": "code",
   "execution_count": 15,
   "id": "a8f30c01",
   "metadata": {},
   "outputs": [],
   "source": [
    "# Initialize Logistic Regression classifier\n",
    "clf = LogisticRegression(random_state=0)"
   ]
  },
  {
   "cell_type": "code",
   "execution_count": 16,
   "id": "ac44167f",
   "metadata": {},
   "outputs": [],
   "source": [
    "# Define mutation and crossover schedulers\n",
    "mutation_scheduler = ExponentialAdapter(0.8, 0.2, 0.01)\n",
    "crossover_scheduler = ExponentialAdapter(0.2, 0.8, 0.01)"
   ]
  },
  {
   "cell_type": "code",
   "execution_count": 17,
   "id": "52d3238a",
   "metadata": {},
   "outputs": [],
   "source": [
    "# Initialize Genetic Algorithm for Feature Selection\n",
    "evolved_estimator = GAFeatureSelectionCV(\n",
    "    estimator=clf,\n",
    "    scoring=\"accuracy\",\n",
    "    population_size=30,\n",
    "    generations=20,\n",
    "    mutation_probability=mutation_scheduler,\n",
    "    crossover_probability=crossover_scheduler,\n",
    "    n_jobs=-1\n",
    ")"
   ]
  },
  {
   "cell_type": "code",
   "execution_count": 18,
   "id": "85f3ad59",
   "metadata": {},
   "outputs": [],
   "source": [
    "# Reshape y_train if needed\n",
    "y_train = y_train.values.reshape(-1, 1)"
   ]
  },
  {
   "cell_type": "code",
   "execution_count": 19,
   "id": "b2793b50",
   "metadata": {},
   "outputs": [
    {
     "name": "stdout",
     "output_type": "stream",
     "text": [
      "gen\tnevals\tfitness \tfitness_std\tfitness_max\tfitness_min\n",
      "0  \t30    \t0.342437\t1.11022e-16\t0.342437   \t0.342437   \n",
      "1  \t60    \t0.342437\t1.11022e-16\t0.342437   \t0.342437   \n",
      "2  \t60    \t0.342437\t1.11022e-16\t0.342437   \t0.342437   \n",
      "3  \t60    \t0.342437\t1.11022e-16\t0.342437   \t0.342437   \n",
      "4  \t60    \t0.342437\t1.11022e-16\t0.342437   \t0.342437   \n",
      "5  \t60    \t0.342437\t1.11022e-16\t0.342437   \t0.342437   \n",
      "6  \t60    \t0.342437\t1.11022e-16\t0.342437   \t0.342437   \n",
      "7  \t60    \t0.342437\t1.11022e-16\t0.342437   \t0.342437   \n",
      "8  \t60    \t0.342437\t1.11022e-16\t0.342437   \t0.342437   \n",
      "9  \t60    \t0.342437\t1.11022e-16\t0.342437   \t0.342437   \n",
      "10 \t60    \t0.342437\t1.11022e-16\t0.342437   \t0.342437   \n",
      "11 \t60    \t0.342437\t1.11022e-16\t0.342437   \t0.342437   \n",
      "12 \t60    \t0.342437\t1.11022e-16\t0.342437   \t0.342437   \n",
      "13 \t60    \t0.342437\t1.11022e-16\t0.342437   \t0.342437   \n",
      "14 \t60    \t0.342437\t1.11022e-16\t0.342437   \t0.342437   \n",
      "15 \t60    \t0.342437\t1.11022e-16\t0.342437   \t0.342437   \n",
      "16 \t60    \t0.342437\t1.11022e-16\t0.342437   \t0.342437   \n",
      "17 \t60    \t0.342437\t1.11022e-16\t0.342437   \t0.342437   \n",
      "18 \t60    \t0.342437\t1.11022e-16\t0.342437   \t0.342437   \n",
      "19 \t60    \t0.342437\t1.11022e-16\t0.342437   \t0.342437   \n",
      "20 \t60    \t0.342437\t1.11022e-16\t0.342437   \t0.342437   \n"
     ]
    },
    {
     "name": "stderr",
     "output_type": "stream",
     "text": [
      "C:\\Users\\jun\\anaconda3\\envs\\env2\\Lib\\site-packages\\sklearn\\linear_model\\_logistic.py:458: ConvergenceWarning: lbfgs failed to converge (status=2):\n",
      "ABNORMAL_TERMINATION_IN_LNSRCH.\n",
      "\n",
      "Increase the number of iterations (max_iter) or scale the data as shown in:\n",
      "    https://scikit-learn.org/stable/modules/preprocessing.html\n",
      "Please also refer to the documentation for alternative solver options:\n",
      "    https://scikit-learn.org/stable/modules/linear_model.html#logistic-regression\n",
      "  n_iter_i = _check_optimize_result(\n"
     ]
    },
    {
     "data": {
      "text/html": [
       "<style>#sk-container-id-2 {color: black;background-color: white;}#sk-container-id-2 pre{padding: 0;}#sk-container-id-2 div.sk-toggleable {background-color: white;}#sk-container-id-2 label.sk-toggleable__label {cursor: pointer;display: block;width: 100%;margin-bottom: 0;padding: 0.3em;box-sizing: border-box;text-align: center;}#sk-container-id-2 label.sk-toggleable__label-arrow:before {content: \"▸\";float: left;margin-right: 0.25em;color: #696969;}#sk-container-id-2 label.sk-toggleable__label-arrow:hover:before {color: black;}#sk-container-id-2 div.sk-estimator:hover label.sk-toggleable__label-arrow:before {color: black;}#sk-container-id-2 div.sk-toggleable__content {max-height: 0;max-width: 0;overflow: hidden;text-align: left;background-color: #f0f8ff;}#sk-container-id-2 div.sk-toggleable__content pre {margin: 0.2em;color: black;border-radius: 0.25em;background-color: #f0f8ff;}#sk-container-id-2 input.sk-toggleable__control:checked~div.sk-toggleable__content {max-height: 200px;max-width: 100%;overflow: auto;}#sk-container-id-2 input.sk-toggleable__control:checked~label.sk-toggleable__label-arrow:before {content: \"▾\";}#sk-container-id-2 div.sk-estimator input.sk-toggleable__control:checked~label.sk-toggleable__label {background-color: #d4ebff;}#sk-container-id-2 div.sk-label input.sk-toggleable__control:checked~label.sk-toggleable__label {background-color: #d4ebff;}#sk-container-id-2 input.sk-hidden--visually {border: 0;clip: rect(1px 1px 1px 1px);clip: rect(1px, 1px, 1px, 1px);height: 1px;margin: -1px;overflow: hidden;padding: 0;position: absolute;width: 1px;}#sk-container-id-2 div.sk-estimator {font-family: monospace;background-color: #f0f8ff;border: 1px dotted black;border-radius: 0.25em;box-sizing: border-box;margin-bottom: 0.5em;}#sk-container-id-2 div.sk-estimator:hover {background-color: #d4ebff;}#sk-container-id-2 div.sk-parallel-item::after {content: \"\";width: 100%;border-bottom: 1px solid gray;flex-grow: 1;}#sk-container-id-2 div.sk-label:hover label.sk-toggleable__label {background-color: #d4ebff;}#sk-container-id-2 div.sk-serial::before {content: \"\";position: absolute;border-left: 1px solid gray;box-sizing: border-box;top: 0;bottom: 0;left: 50%;z-index: 0;}#sk-container-id-2 div.sk-serial {display: flex;flex-direction: column;align-items: center;background-color: white;padding-right: 0.2em;padding-left: 0.2em;position: relative;}#sk-container-id-2 div.sk-item {position: relative;z-index: 1;}#sk-container-id-2 div.sk-parallel {display: flex;align-items: stretch;justify-content: center;background-color: white;position: relative;}#sk-container-id-2 div.sk-item::before, #sk-container-id-2 div.sk-parallel-item::before {content: \"\";position: absolute;border-left: 1px solid gray;box-sizing: border-box;top: 0;bottom: 0;left: 50%;z-index: -1;}#sk-container-id-2 div.sk-parallel-item {display: flex;flex-direction: column;z-index: 1;position: relative;background-color: white;}#sk-container-id-2 div.sk-parallel-item:first-child::after {align-self: flex-end;width: 50%;}#sk-container-id-2 div.sk-parallel-item:last-child::after {align-self: flex-start;width: 50%;}#sk-container-id-2 div.sk-parallel-item:only-child::after {width: 0;}#sk-container-id-2 div.sk-dashed-wrapped {border: 1px dashed gray;margin: 0 0.4em 0.5em 0.4em;box-sizing: border-box;padding-bottom: 0.4em;background-color: white;}#sk-container-id-2 div.sk-label label {font-family: monospace;font-weight: bold;display: inline-block;line-height: 1.2em;}#sk-container-id-2 div.sk-label-container {text-align: center;}#sk-container-id-2 div.sk-container {/* jupyter's `normalize.less` sets `[hidden] { display: none; }` but bootstrap.min.css set `[hidden] { display: none !important; }` so we also need the `!important` here to be able to override the default hidden behavior on the sphinx rendered scikit-learn.org. See: https://github.com/scikit-learn/scikit-learn/issues/21755 */display: inline-block !important;position: relative;}#sk-container-id-2 div.sk-text-repr-fallback {display: none;}</style><div id=\"sk-container-id-2\" class=\"sk-top-container\"><div class=\"sk-text-repr-fallback\"><pre>GAFeatureSelectionCV(crossover_probability=&lt;sklearn_genetic.schedules.schedulers.ExponentialAdapter object at 0x0000022EBBFFBF90&gt;,\n",
       "                     estimator=LogisticRegression(random_state=0),\n",
       "                     generations=20,\n",
       "                     mutation_probability=&lt;sklearn_genetic.schedules.schedulers.ExponentialAdapter object at 0x0000022EA655D0D0&gt;,\n",
       "                     n_jobs=-1, population_size=30, scoring=&#x27;accuracy&#x27;)</pre><b>In a Jupyter environment, please rerun this cell to show the HTML representation or trust the notebook. <br />On GitHub, the HTML representation is unable to render, please try loading this page with nbviewer.org.</b></div><div class=\"sk-container\" hidden><div class=\"sk-item sk-dashed-wrapped\"><div class=\"sk-label-container\"><div class=\"sk-label sk-toggleable\"><input class=\"sk-toggleable__control sk-hidden--visually\" id=\"sk-estimator-id-2\" type=\"checkbox\" ><label for=\"sk-estimator-id-2\" class=\"sk-toggleable__label sk-toggleable__label-arrow\">GAFeatureSelectionCV</label><div class=\"sk-toggleable__content\"><pre>GAFeatureSelectionCV(crossover_probability=&lt;sklearn_genetic.schedules.schedulers.ExponentialAdapter object at 0x0000022EBBFFBF90&gt;,\n",
       "                     estimator=LogisticRegression(random_state=0),\n",
       "                     generations=20,\n",
       "                     mutation_probability=&lt;sklearn_genetic.schedules.schedulers.ExponentialAdapter object at 0x0000022EA655D0D0&gt;,\n",
       "                     n_jobs=-1, population_size=30, scoring=&#x27;accuracy&#x27;)</pre></div></div></div><div class=\"sk-parallel\"><div class=\"sk-parallel-item\"><div class=\"sk-item\"><div class=\"sk-label-container\"><div class=\"sk-label sk-toggleable\"><input class=\"sk-toggleable__control sk-hidden--visually\" id=\"sk-estimator-id-3\" type=\"checkbox\" ><label for=\"sk-estimator-id-3\" class=\"sk-toggleable__label sk-toggleable__label-arrow\">estimator: LogisticRegression</label><div class=\"sk-toggleable__content\"><pre>LogisticRegression(random_state=0)</pre></div></div></div><div class=\"sk-serial\"><div class=\"sk-item\"><div class=\"sk-estimator sk-toggleable\"><input class=\"sk-toggleable__control sk-hidden--visually\" id=\"sk-estimator-id-4\" type=\"checkbox\" ><label for=\"sk-estimator-id-4\" class=\"sk-toggleable__label sk-toggleable__label-arrow\">LogisticRegression</label><div class=\"sk-toggleable__content\"><pre>LogisticRegression(random_state=0)</pre></div></div></div></div></div></div></div></div></div></div>"
      ],
      "text/plain": [
       "GAFeatureSelectionCV(crossover_probability=<sklearn_genetic.schedules.schedulers.ExponentialAdapter object at 0x0000022EBBFFBF90>,\n",
       "                     estimator=LogisticRegression(random_state=0),\n",
       "                     generations=20,\n",
       "                     mutation_probability=<sklearn_genetic.schedules.schedulers.ExponentialAdapter object at 0x0000022EA655D0D0>,\n",
       "                     n_jobs=-1, population_size=30, scoring='accuracy')"
      ]
     },
     "execution_count": 19,
     "metadata": {},
     "output_type": "execute_result"
    }
   ],
   "source": [
    "# Fit the model\n",
    "evolved_estimator.fit(X_train, y_train.ravel())"
   ]
  },
  {
   "cell_type": "code",
   "execution_count": 21,
   "id": "9a0ce34c",
   "metadata": {},
   "outputs": [
    {
     "name": "stdout",
     "output_type": "stream",
     "text": [
      "Selected Features: [ True  True  True ... False False False]\n"
     ]
    }
   ],
   "source": [
    "# Get selected features\n",
    "features = evolved_estimator.support_\n",
    "print(\"Selected Features:\", features)"
   ]
  },
  {
   "cell_type": "code",
   "execution_count": 22,
   "id": "04c835b9",
   "metadata": {},
   "outputs": [],
   "source": [
    "# Make predictions\n",
    "y_predict_ga = evolved_estimator.predict(X_test)"
   ]
  },
  {
   "cell_type": "code",
   "execution_count": 23,
   "id": "813d1936",
   "metadata": {},
   "outputs": [
    {
     "name": "stdout",
     "output_type": "stream",
     "text": [
      "Accuracy: 0.31107954545454547\n"
     ]
    }
   ],
   "source": [
    "# Calculate accuracy\n",
    "accuracy = accuracy_score(y_test, y_predict_ga)\n",
    "print(\"Accuracy:\", accuracy)"
   ]
  },
  {
   "cell_type": "code",
   "execution_count": 24,
   "id": "a0ae8994",
   "metadata": {},
   "outputs": [
    {
     "name": "stdout",
     "output_type": "stream",
     "text": [
      "Precision: 0.09677048360020661\n",
      "Recall: 0.31107954545454547\n",
      "F1 Score: 0.14761954594701077\n"
     ]
    },
    {
     "name": "stderr",
     "output_type": "stream",
     "text": [
      "C:\\Users\\jun\\anaconda3\\envs\\env2\\Lib\\site-packages\\sklearn\\metrics\\_classification.py:1344: UndefinedMetricWarning: Precision is ill-defined and being set to 0.0 in labels with no predicted samples. Use `zero_division` parameter to control this behavior.\n",
      "  _warn_prf(average, modifier, msg_start, len(result))\n"
     ]
    }
   ],
   "source": [
    "# Calculate precision, recall, and F1 score\n",
    "precision = precision_score(y_test, y_predict_ga, average='weighted')\n",
    "recall = recall_score(y_test, y_predict_ga, average='weighted')\n",
    "f1 = f1_score(y_test, y_predict_ga, average='weighted')\n",
    "\n",
    "print(\"Precision:\", precision)\n",
    "print(\"Recall:\", recall)\n",
    "print(\"F1 Score:\", f1)"
   ]
  },
  {
   "cell_type": "code",
   "execution_count": null,
   "id": "52416ead",
   "metadata": {},
   "outputs": [],
   "source": []
  }
 ],
 "metadata": {
  "kernelspec": {
   "display_name": "Python 3 (ipykernel)",
   "language": "python",
   "name": "python3"
  },
  "language_info": {
   "codemirror_mode": {
    "name": "ipython",
    "version": 3
   },
   "file_extension": ".py",
   "mimetype": "text/x-python",
   "name": "python",
   "nbconvert_exporter": "python",
   "pygments_lexer": "ipython3",
   "version": "3.11.3"
  }
 },
 "nbformat": 4,
 "nbformat_minor": 5
}
