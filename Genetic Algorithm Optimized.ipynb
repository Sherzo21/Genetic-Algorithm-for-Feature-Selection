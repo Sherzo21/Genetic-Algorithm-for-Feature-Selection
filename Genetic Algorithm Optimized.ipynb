{
 "cells": [
  {
   "cell_type": "code",
   "execution_count": 1,
   "id": "da2cbb1a",
   "metadata": {},
   "outputs": [],
   "source": [
    "from sklearn_genetic import GAFeatureSelectionCV, ExponentialAdapter\n",
    "from sklearn.model_selection import train_test_split\n",
    "from sklearn.ensemble import RandomForestClassifier\n",
    "from sklearn.metrics import accuracy_score\n",
    "import numpy as np\n",
    "import pandas as pd"
   ]
  },
  {
   "cell_type": "code",
   "execution_count": 2,
   "id": "aadf1a6e",
   "metadata": {},
   "outputs": [],
   "source": [
    "data = pd.read_csv('emotions.csv')\n",
    "X = data.drop('label', axis=1)\n",
    "y = data['label']\n",
    "noise = np.random.uniform(5, 10, size=(X.shape[0], 5))\n",
    "X = np.hstack((X, noise))\n",
    "X_train, X_test, y_train, y_test = train_test_split(X, y, test_size=0.33, random_state=0)"
   ]
  },
  {
   "cell_type": "code",
   "execution_count": 3,
   "id": "5c94f73c",
   "metadata": {},
   "outputs": [],
   "source": [
    "clf = RandomForestClassifier(n_estimators=100, random_state=0)"
   ]
  },
  {
   "cell_type": "code",
   "execution_count": 4,
   "id": "54a9461f",
   "metadata": {},
   "outputs": [],
   "source": [
    "# Set up mutation and crossover rate schedulers\n",
    "mutation_scheduler = ExponentialAdapter(0.5, 0.2, 0.01)\n",
    "crossover_scheduler = ExponentialAdapter(0.5, 0.8, 0.01)"
   ]
  },
  {
   "cell_type": "code",
   "execution_count": 5,
   "id": "b615e163",
   "metadata": {},
   "outputs": [],
   "source": [
    "# Set up the Genetic Algorithm Feature Selection\n",
    "evolved_estimator = GAFeatureSelectionCV(\n",
    "    estimator=clf,\n",
    "    scoring=\"accuracy\",\n",
    "    population_size=50,  # Adjusted population size\n",
    "    generations=30,  # Adjusted number of generations\n",
    "    mutation_probability=mutation_scheduler,\n",
    "    crossover_probability=crossover_scheduler,\n",
    "    n_jobs=-1\n",
    ")"
   ]
  },
  {
   "cell_type": "code",
   "execution_count": 6,
   "id": "0959183b",
   "metadata": {},
   "outputs": [],
   "source": [
    "# Flatten y_train if needed\n",
    "y_train = y_train.values.ravel()"
   ]
  },
  {
   "cell_type": "code",
   "execution_count": 7,
   "id": "32f539a7",
   "metadata": {},
   "outputs": [
    {
     "name": "stdout",
     "output_type": "stream",
     "text": [
      "gen\tnevals\tfitness \tfitness_std\tfitness_max\tfitness_min\n",
      "0  \t50    \t0.979622\t0.00234463 \t0.984594   \t0.97479    \n",
      "1  \t100   \t0.981653\t0.00182073 \t0.984594   \t0.977591   \n",
      "2  \t100   \t0.982423\t0.00162881 \t0.985294   \t0.979692   \n",
      "3  \t100   \t0.982633\t0.0016152  \t0.985294   \t0.979692   \n",
      "4  \t100   \t0.983375\t0.00144067 \t0.985994   \t0.979692   \n",
      "5  \t100   \t0.983081\t0.00148459 \t0.985294   \t0.980392   \n",
      "6  \t100   \t0.983669\t0.00147185 \t0.985994   \t0.979692   \n",
      "7  \t100   \t0.983557\t0.00166449 \t0.985994   \t0.979692   \n",
      "8  \t100   \t0.983725\t0.001525   \t0.985994   \t0.978992   \n",
      "9  \t100   \t0.983529\t0.0017949  \t0.985994   \t0.978992   \n",
      "10 \t100   \t0.983487\t0.00180498 \t0.985994   \t0.980392   \n",
      "11 \t100   \t0.983964\t0.00145719 \t0.985994   \t0.978992   \n",
      "12 \t100   \t0.983768\t0.00157019 \t0.985994   \t0.979692   \n",
      "13 \t100   \t0.983838\t0.00125145 \t0.985994   \t0.981092   \n",
      "14 \t100   \t0.983739\t0.00153609 \t0.985994   \t0.980392   \n",
      "15 \t100   \t0.983641\t0.00164385 \t0.985994   \t0.978992   \n",
      "16 \t100   \t0.983894\t0.00159688 \t0.985994   \t0.979692   \n",
      "17 \t100   \t0.984188\t0.00152198 \t0.986695   \t0.980392   \n",
      "18 \t100   \t0.983992\t0.00175495 \t0.986695   \t0.979692   \n",
      "19 \t100   \t0.984384\t0.0015861  \t0.985994   \t0.981092   \n",
      "20 \t100   \t0.9843  \t0.001931   \t0.985994   \t0.978992   \n",
      "21 \t100   \t0.984468\t0.00190852 \t0.987395   \t0.977591   \n",
      "22 \t100   \t0.984678\t0.00169601 \t0.987395   \t0.979692   \n",
      "23 \t100   \t0.98507 \t0.00156236 \t0.987395   \t0.979692   \n",
      "24 \t100   \t0.984944\t0.00147059 \t0.987395   \t0.981092   \n",
      "25 \t100   \t0.98493 \t0.00172809 \t0.987395   \t0.979692   \n",
      "26 \t100   \t0.98472 \t0.00155765 \t0.985994   \t0.981092   \n",
      "27 \t100   \t0.984874\t0.00178262 \t0.987395   \t0.977591   \n",
      "28 \t100   \t0.985252\t0.00128676 \t0.987395   \t0.981793   \n",
      "29 \t100   \t0.98542 \t0.00121849 \t0.987395   \t0.981793   \n",
      "30 \t100   \t0.985224\t0.0015861  \t0.988796   \t0.980392   \n"
     ]
    },
    {
     "data": {
      "text/html": [
       "<style>#sk-container-id-1 {color: black;background-color: white;}#sk-container-id-1 pre{padding: 0;}#sk-container-id-1 div.sk-toggleable {background-color: white;}#sk-container-id-1 label.sk-toggleable__label {cursor: pointer;display: block;width: 100%;margin-bottom: 0;padding: 0.3em;box-sizing: border-box;text-align: center;}#sk-container-id-1 label.sk-toggleable__label-arrow:before {content: \"▸\";float: left;margin-right: 0.25em;color: #696969;}#sk-container-id-1 label.sk-toggleable__label-arrow:hover:before {color: black;}#sk-container-id-1 div.sk-estimator:hover label.sk-toggleable__label-arrow:before {color: black;}#sk-container-id-1 div.sk-toggleable__content {max-height: 0;max-width: 0;overflow: hidden;text-align: left;background-color: #f0f8ff;}#sk-container-id-1 div.sk-toggleable__content pre {margin: 0.2em;color: black;border-radius: 0.25em;background-color: #f0f8ff;}#sk-container-id-1 input.sk-toggleable__control:checked~div.sk-toggleable__content {max-height: 200px;max-width: 100%;overflow: auto;}#sk-container-id-1 input.sk-toggleable__control:checked~label.sk-toggleable__label-arrow:before {content: \"▾\";}#sk-container-id-1 div.sk-estimator input.sk-toggleable__control:checked~label.sk-toggleable__label {background-color: #d4ebff;}#sk-container-id-1 div.sk-label input.sk-toggleable__control:checked~label.sk-toggleable__label {background-color: #d4ebff;}#sk-container-id-1 input.sk-hidden--visually {border: 0;clip: rect(1px 1px 1px 1px);clip: rect(1px, 1px, 1px, 1px);height: 1px;margin: -1px;overflow: hidden;padding: 0;position: absolute;width: 1px;}#sk-container-id-1 div.sk-estimator {font-family: monospace;background-color: #f0f8ff;border: 1px dotted black;border-radius: 0.25em;box-sizing: border-box;margin-bottom: 0.5em;}#sk-container-id-1 div.sk-estimator:hover {background-color: #d4ebff;}#sk-container-id-1 div.sk-parallel-item::after {content: \"\";width: 100%;border-bottom: 1px solid gray;flex-grow: 1;}#sk-container-id-1 div.sk-label:hover label.sk-toggleable__label {background-color: #d4ebff;}#sk-container-id-1 div.sk-serial::before {content: \"\";position: absolute;border-left: 1px solid gray;box-sizing: border-box;top: 0;bottom: 0;left: 50%;z-index: 0;}#sk-container-id-1 div.sk-serial {display: flex;flex-direction: column;align-items: center;background-color: white;padding-right: 0.2em;padding-left: 0.2em;position: relative;}#sk-container-id-1 div.sk-item {position: relative;z-index: 1;}#sk-container-id-1 div.sk-parallel {display: flex;align-items: stretch;justify-content: center;background-color: white;position: relative;}#sk-container-id-1 div.sk-item::before, #sk-container-id-1 div.sk-parallel-item::before {content: \"\";position: absolute;border-left: 1px solid gray;box-sizing: border-box;top: 0;bottom: 0;left: 50%;z-index: -1;}#sk-container-id-1 div.sk-parallel-item {display: flex;flex-direction: column;z-index: 1;position: relative;background-color: white;}#sk-container-id-1 div.sk-parallel-item:first-child::after {align-self: flex-end;width: 50%;}#sk-container-id-1 div.sk-parallel-item:last-child::after {align-self: flex-start;width: 50%;}#sk-container-id-1 div.sk-parallel-item:only-child::after {width: 0;}#sk-container-id-1 div.sk-dashed-wrapped {border: 1px dashed gray;margin: 0 0.4em 0.5em 0.4em;box-sizing: border-box;padding-bottom: 0.4em;background-color: white;}#sk-container-id-1 div.sk-label label {font-family: monospace;font-weight: bold;display: inline-block;line-height: 1.2em;}#sk-container-id-1 div.sk-label-container {text-align: center;}#sk-container-id-1 div.sk-container {/* jupyter's `normalize.less` sets `[hidden] { display: none; }` but bootstrap.min.css set `[hidden] { display: none !important; }` so we also need the `!important` here to be able to override the default hidden behavior on the sphinx rendered scikit-learn.org. See: https://github.com/scikit-learn/scikit-learn/issues/21755 */display: inline-block !important;position: relative;}#sk-container-id-1 div.sk-text-repr-fallback {display: none;}</style><div id=\"sk-container-id-1\" class=\"sk-top-container\"><div class=\"sk-text-repr-fallback\"><pre>GAFeatureSelectionCV(crossover_probability=&lt;sklearn_genetic.schedules.schedulers.ExponentialAdapter object at 0x000002A86855E110&gt;,\n",
       "                     estimator=RandomForestClassifier(random_state=0),\n",
       "                     generations=30,\n",
       "                     mutation_probability=&lt;sklearn_genetic.schedules.schedulers.ExponentialAdapter object at 0x000002A86855E3D0&gt;,\n",
       "                     n_jobs=-1, scoring=&#x27;accuracy&#x27;)</pre><b>In a Jupyter environment, please rerun this cell to show the HTML representation or trust the notebook. <br />On GitHub, the HTML representation is unable to render, please try loading this page with nbviewer.org.</b></div><div class=\"sk-container\" hidden><div class=\"sk-item sk-dashed-wrapped\"><div class=\"sk-label-container\"><div class=\"sk-label sk-toggleable\"><input class=\"sk-toggleable__control sk-hidden--visually\" id=\"sk-estimator-id-1\" type=\"checkbox\" ><label for=\"sk-estimator-id-1\" class=\"sk-toggleable__label sk-toggleable__label-arrow\">GAFeatureSelectionCV</label><div class=\"sk-toggleable__content\"><pre>GAFeatureSelectionCV(crossover_probability=&lt;sklearn_genetic.schedules.schedulers.ExponentialAdapter object at 0x000002A86855E110&gt;,\n",
       "                     estimator=RandomForestClassifier(random_state=0),\n",
       "                     generations=30,\n",
       "                     mutation_probability=&lt;sklearn_genetic.schedules.schedulers.ExponentialAdapter object at 0x000002A86855E3D0&gt;,\n",
       "                     n_jobs=-1, scoring=&#x27;accuracy&#x27;)</pre></div></div></div><div class=\"sk-parallel\"><div class=\"sk-parallel-item\"><div class=\"sk-item\"><div class=\"sk-label-container\"><div class=\"sk-label sk-toggleable\"><input class=\"sk-toggleable__control sk-hidden--visually\" id=\"sk-estimator-id-2\" type=\"checkbox\" ><label for=\"sk-estimator-id-2\" class=\"sk-toggleable__label sk-toggleable__label-arrow\">estimator: RandomForestClassifier</label><div class=\"sk-toggleable__content\"><pre>RandomForestClassifier(random_state=0)</pre></div></div></div><div class=\"sk-serial\"><div class=\"sk-item\"><div class=\"sk-estimator sk-toggleable\"><input class=\"sk-toggleable__control sk-hidden--visually\" id=\"sk-estimator-id-3\" type=\"checkbox\" ><label for=\"sk-estimator-id-3\" class=\"sk-toggleable__label sk-toggleable__label-arrow\">RandomForestClassifier</label><div class=\"sk-toggleable__content\"><pre>RandomForestClassifier(random_state=0)</pre></div></div></div></div></div></div></div></div></div></div>"
      ],
      "text/plain": [
       "GAFeatureSelectionCV(crossover_probability=<sklearn_genetic.schedules.schedulers.ExponentialAdapter object at 0x000002A86855E110>,\n",
       "                     estimator=RandomForestClassifier(random_state=0),\n",
       "                     generations=30,\n",
       "                     mutation_probability=<sklearn_genetic.schedules.schedulers.ExponentialAdapter object at 0x000002A86855E3D0>,\n",
       "                     n_jobs=-1, scoring='accuracy')"
      ]
     },
     "execution_count": 7,
     "metadata": {},
     "output_type": "execute_result"
    }
   ],
   "source": [
    "# Fit the model\n",
    "evolved_estimator.fit(X_train, y_train)"
   ]
  },
  {
   "cell_type": "code",
   "execution_count": 8,
   "id": "0d7ec59e",
   "metadata": {},
   "outputs": [
    {
     "name": "stdout",
     "output_type": "stream",
     "text": [
      "Selected Features: [False  True  True ... False False  True]\n"
     ]
    }
   ],
   "source": [
    "# Get selected features\n",
    "features = evolved_estimator.support_\n",
    "print(\"Selected Features:\", features)"
   ]
  },
  {
   "cell_type": "code",
   "execution_count": 9,
   "id": "641caa28",
   "metadata": {},
   "outputs": [],
   "source": [
    "# Predict using the selected features\n",
    "y_predict_ga = evolved_estimator.predict(X_test)"
   ]
  },
  {
   "cell_type": "code",
   "execution_count": 10,
   "id": "d0efb271",
   "metadata": {},
   "outputs": [
    {
     "name": "stdout",
     "output_type": "stream",
     "text": [
      "Accuracy: 0.9801136363636364\n"
     ]
    }
   ],
   "source": [
    "# Calculate and print accuracy\n",
    "print(\"Accuracy:\", accuracy_score(y_test, y_predict_ga))"
   ]
  },
  {
   "cell_type": "code",
   "execution_count": 11,
   "id": "9c49f71c",
   "metadata": {},
   "outputs": [
    {
     "name": "stdout",
     "output_type": "stream",
     "text": [
      "Number of Selected Features: 2553\n"
     ]
    }
   ],
   "source": [
    "# Transform the test set with selected features\n",
    "X_reduced = evolved_estimator.transform(X_test)\n",
    "print(\"Number of Selected Features:\", len(features))"
   ]
  },
  {
   "cell_type": "code",
   "execution_count": null,
   "id": "0a56c32b",
   "metadata": {},
   "outputs": [],
   "source": []
  }
 ],
 "metadata": {
  "kernelspec": {
   "display_name": "Python 3 (ipykernel)",
   "language": "python",
   "name": "python3"
  },
  "language_info": {
   "codemirror_mode": {
    "name": "ipython",
    "version": 3
   },
   "file_extension": ".py",
   "mimetype": "text/x-python",
   "name": "python",
   "nbconvert_exporter": "python",
   "pygments_lexer": "ipython3",
   "version": "3.11.3"
  }
 },
 "nbformat": 4,
 "nbformat_minor": 5
}
