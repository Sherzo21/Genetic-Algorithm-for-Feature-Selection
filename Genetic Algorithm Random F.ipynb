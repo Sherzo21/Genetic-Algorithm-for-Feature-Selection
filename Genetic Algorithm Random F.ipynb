{
 "cells": [
  {
   "cell_type": "code",
   "execution_count": 1,
   "id": "a806ca15",
   "metadata": {},
   "outputs": [
    {
     "name": "stdout",
     "output_type": "stream",
     "text": [
      "Requirement already satisfied: sklearn-genetic in c:\\users\\jun\\anaconda3\\envs\\env2\\lib\\site-packages (0.5.1)\n",
      "Requirement already satisfied: scikit-learn>=0.23 in c:\\users\\jun\\anaconda3\\envs\\env2\\lib\\site-packages (from sklearn-genetic) (1.2.2)\n",
      "Requirement already satisfied: deap>=1.0.2 in c:\\users\\jun\\anaconda3\\envs\\env2\\lib\\site-packages (from sklearn-genetic) (1.4.1)\n",
      "Requirement already satisfied: numpy in c:\\users\\jun\\anaconda3\\envs\\env2\\lib\\site-packages (from sklearn-genetic) (1.24.3)\n",
      "Requirement already satisfied: multiprocess in c:\\users\\jun\\anaconda3\\envs\\env2\\lib\\site-packages (from sklearn-genetic) (0.70.15)\n",
      "Requirement already satisfied: scipy>=1.3.2 in c:\\users\\jun\\anaconda3\\envs\\env2\\lib\\site-packages (from scikit-learn>=0.23->sklearn-genetic) (1.10.1)\n",
      "Requirement already satisfied: joblib>=1.1.1 in c:\\users\\jun\\anaconda3\\envs\\env2\\lib\\site-packages (from scikit-learn>=0.23->sklearn-genetic) (1.2.0)\n",
      "Requirement already satisfied: threadpoolctl>=2.0.0 in c:\\users\\jun\\anaconda3\\envs\\env2\\lib\\site-packages (from scikit-learn>=0.23->sklearn-genetic) (3.1.0)\n",
      "Requirement already satisfied: dill>=0.3.7 in c:\\users\\jun\\anaconda3\\envs\\env2\\lib\\site-packages (from multiprocess->sklearn-genetic) (0.3.7)\n"
     ]
    }
   ],
   "source": [
    "!pip install sklearn-genetic"
   ]
  },
  {
   "cell_type": "code",
   "execution_count": 2,
   "id": "6bb0ed80",
   "metadata": {},
   "outputs": [
    {
     "name": "stdout",
     "output_type": "stream",
     "text": [
      "Requirement already satisfied: scikit-learn in c:\\users\\jun\\anaconda3\\envs\\env2\\lib\\site-packages (1.2.2)\n",
      "Requirement already satisfied: numpy>=1.17.3 in c:\\users\\jun\\anaconda3\\envs\\env2\\lib\\site-packages (from scikit-learn) (1.24.3)\n",
      "Requirement already satisfied: scipy>=1.3.2 in c:\\users\\jun\\anaconda3\\envs\\env2\\lib\\site-packages (from scikit-learn) (1.10.1)\n",
      "Requirement already satisfied: joblib>=1.1.1 in c:\\users\\jun\\anaconda3\\envs\\env2\\lib\\site-packages (from scikit-learn) (1.2.0)\n",
      "Requirement already satisfied: threadpoolctl>=2.0.0 in c:\\users\\jun\\anaconda3\\envs\\env2\\lib\\site-packages (from scikit-learn) (3.1.0)\n"
     ]
    }
   ],
   "source": [
    "!pip install scikit-learn"
   ]
  },
  {
   "cell_type": "code",
   "execution_count": 3,
   "id": "90f1ddc4",
   "metadata": {},
   "outputs": [],
   "source": [
    "from sklearn_genetic import GAFeatureSelectionCV, ExponentialAdapter\n",
    "from sklearn.model_selection import train_test_split\n",
    "from sklearn.ensemble import RandomForestClassifier\n",
    "from sklearn.metrics import accuracy_score\n",
    "import numpy as np\n",
    "import pandas as pd"
   ]
  },
  {
   "cell_type": "code",
   "execution_count": 4,
   "id": "6f112f06",
   "metadata": {},
   "outputs": [],
   "source": [
    "data = pd.read_csv('emotions.csv')\n",
    "X = data.drop('label', axis=1)\n",
    "y = data['label']"
   ]
  },
  {
   "cell_type": "code",
   "execution_count": 5,
   "id": "2f0cc6cf",
   "metadata": {},
   "outputs": [],
   "source": [
    "noise = np.random.uniform(5, 10, size=(X.shape[0], 5))\n",
    "X = np.hstack((X, noise))"
   ]
  },
  {
   "cell_type": "code",
   "execution_count": 6,
   "id": "2629329d",
   "metadata": {},
   "outputs": [],
   "source": [
    "X_train, X_test, y_train, y_test = train_test_split(X, y, test_size=0.33, random_state=0)"
   ]
  },
  {
   "cell_type": "code",
   "execution_count": 7,
   "id": "0c1ef0de",
   "metadata": {},
   "outputs": [],
   "source": [
    "clf = RandomForestClassifier(n_estimators=100, random_state=0)"
   ]
  },
  {
   "cell_type": "code",
   "execution_count": 8,
   "id": "fb3c6bdf",
   "metadata": {},
   "outputs": [],
   "source": [
    "mutation_scheduler = ExponentialAdapter(0.8, 0.2, 0.01)\n",
    "crossover_scheduler = ExponentialAdapter(0.2, 0.8, 0.01)"
   ]
  },
  {
   "cell_type": "code",
   "execution_count": 9,
   "id": "35e09942",
   "metadata": {},
   "outputs": [],
   "source": [
    "evolved_estimator = GAFeatureSelectionCV(\n",
    "    estimator=clf,\n",
    "    scoring=\"accuracy\",\n",
    "    population_size=30,\n",
    "    generations=20,\n",
    "    mutation_probability=mutation_scheduler,\n",
    "    crossover_probability=crossover_scheduler,\n",
    "    n_jobs=-1\n",
    ")"
   ]
  },
  {
   "cell_type": "code",
   "execution_count": 10,
   "id": "70a946fe",
   "metadata": {},
   "outputs": [],
   "source": [
    "y_train = y_train.values.ravel()"
   ]
  },
  {
   "cell_type": "code",
   "execution_count": null,
   "id": "e3e16080",
   "metadata": {},
   "outputs": [
    {
     "name": "stdout",
     "output_type": "stream",
     "text": [
      "gen\tnevals\tfitness \tfitness_std\tfitness_max\tfitness_min\n",
      "0  \t30    \t0.978828\t0.00184111 \t0.981793   \t0.973389   \n",
      "1  \t60    \t0.980439\t0.00130301 \t0.982493   \t0.977591   \n",
      "2  \t60    \t0.981162\t0.00125726 \t0.983193   \t0.978291   \n",
      "3  \t60    \t0.981232\t0.0013458  \t0.984594   \t0.978291   \n",
      "4  \t60    \t0.981536\t0.00148534 \t0.984594   \t0.978291   \n",
      "5  \t60    \t0.981769\t0.000894667\t0.983193   \t0.980392   \n",
      "6  \t60    \t0.981653\t0.00112045 \t0.983894   \t0.978992   \n"
     ]
    }
   ],
   "source": [
    "evolved_estimator.fit(X_train, y_train)"
   ]
  },
  {
   "cell_type": "code",
   "execution_count": null,
   "id": "dc9a935b",
   "metadata": {},
   "outputs": [],
   "source": [
    "features = evolved_estimator.support_\n",
    "print(\"Selected Features:\", features)"
   ]
  },
  {
   "cell_type": "code",
   "execution_count": null,
   "id": "537f3bf3",
   "metadata": {},
   "outputs": [],
   "source": [
    "y_predict_ga = evolved_estimator.predict(X_test)\n",
    "print(\"Accuracy:\", accuracy_score(y_test, y_predict_ga))"
   ]
  },
  {
   "cell_type": "code",
   "execution_count": null,
   "id": "1be8dfbb",
   "metadata": {},
   "outputs": [],
   "source": [
    "X_reduced = evolved_estimator.transform(X_test)"
   ]
  }
 ],
 "metadata": {
  "kernelspec": {
   "display_name": "Python 3 (ipykernel)",
   "language": "python",
   "name": "python3"
  },
  "language_info": {
   "codemirror_mode": {
    "name": "ipython",
    "version": 3
   },
   "file_extension": ".py",
   "mimetype": "text/x-python",
   "name": "python",
   "nbconvert_exporter": "python",
   "pygments_lexer": "ipython3",
   "version": "3.11.3"
  }
 },
 "nbformat": 4,
 "nbformat_minor": 5
}
