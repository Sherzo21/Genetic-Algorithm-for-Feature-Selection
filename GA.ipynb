{
 "cells": [
  {
   "cell_type": "code",
   "execution_count": 1,
   "id": "986d701f",
   "metadata": {},
   "outputs": [
    {
     "name": "stdout",
     "output_type": "stream",
     "text": [
      "Collecting sklearn-genetic-opt\n",
      "  Downloading sklearn_genetic_opt-0.10.1-py3-none-any.whl (33 kB)\n",
      "Requirement already satisfied: scikit-learn>=1.1.0 in c:\\users\\jun\\anaconda3\\envs\\env2\\lib\\site-packages (from sklearn-genetic-opt) (1.2.2)\n",
      "Requirement already satisfied: numpy>=1.19.0 in c:\\users\\jun\\anaconda3\\envs\\env2\\lib\\site-packages (from sklearn-genetic-opt) (1.24.3)\n",
      "Requirement already satisfied: deap>=1.3.3 in c:\\users\\jun\\anaconda3\\envs\\env2\\lib\\site-packages (from sklearn-genetic-opt) (1.4.1)\n",
      "Collecting tqdm>=4.61.1 (from sklearn-genetic-opt)\n",
      "  Downloading tqdm-4.66.1-py3-none-any.whl.metadata (57 kB)\n",
      "     ---------------------------------------- 0.0/57.6 kB ? eta -:--:--\n",
      "     ----------------------------------- ---- 51.2/57.6 kB ? eta -:--:--\n",
      "     -------------------------------------- 57.6/57.6 kB 607.3 kB/s eta 0:00:00\n",
      "Requirement already satisfied: scipy>=1.3.2 in c:\\users\\jun\\anaconda3\\envs\\env2\\lib\\site-packages (from scikit-learn>=1.1.0->sklearn-genetic-opt) (1.10.1)\n",
      "Requirement already satisfied: joblib>=1.1.1 in c:\\users\\jun\\anaconda3\\envs\\env2\\lib\\site-packages (from scikit-learn>=1.1.0->sklearn-genetic-opt) (1.2.0)\n",
      "Requirement already satisfied: threadpoolctl>=2.0.0 in c:\\users\\jun\\anaconda3\\envs\\env2\\lib\\site-packages (from scikit-learn>=1.1.0->sklearn-genetic-opt) (3.1.0)\n",
      "Requirement already satisfied: colorama in c:\\users\\jun\\anaconda3\\envs\\env2\\lib\\site-packages (from tqdm>=4.61.1->sklearn-genetic-opt) (0.4.6)\n",
      "Downloading tqdm-4.66.1-py3-none-any.whl (78 kB)\n",
      "   ---------------------------------------- 0.0/78.3 kB ? eta -:--:--\n",
      "   ------------------------------------ --- 71.7/78.3 kB ? eta -:--:--\n",
      "   ---------------------------------------- 78.3/78.3 kB 2.2 MB/s eta 0:00:00\n",
      "Installing collected packages: tqdm, sklearn-genetic-opt\n",
      "Successfully installed sklearn-genetic-opt-0.10.1 tqdm-4.66.1\n"
     ]
    }
   ],
   "source": [
    "!pip install sklearn-genetic-opt"
   ]
  },
  {
   "cell_type": "code",
   "execution_count": 4,
   "id": "3efcbe00",
   "metadata": {},
   "outputs": [
    {
     "name": "stdout",
     "output_type": "stream",
     "text": [
      "Collecting ipywidgets\n",
      "  Downloading ipywidgets-8.1.1-py3-none-any.whl.metadata (2.4 kB)\n",
      "Collecting comm>=0.1.3 (from ipywidgets)\n",
      "  Downloading comm-0.2.0-py3-none-any.whl.metadata (3.7 kB)\n",
      "Requirement already satisfied: ipython>=6.1.0 in c:\\users\\jun\\anaconda3\\envs\\env2\\lib\\site-packages (from ipywidgets) (8.12.0)\n",
      "Requirement already satisfied: traitlets>=4.3.1 in c:\\users\\jun\\anaconda3\\envs\\env2\\lib\\site-packages (from ipywidgets) (5.7.1)\n",
      "Collecting widgetsnbextension~=4.0.9 (from ipywidgets)\n",
      "  Downloading widgetsnbextension-4.0.9-py3-none-any.whl.metadata (1.6 kB)\n",
      "Collecting jupyterlab-widgets~=3.0.9 (from ipywidgets)\n",
      "  Downloading jupyterlab_widgets-3.0.9-py3-none-any.whl.metadata (4.1 kB)\n",
      "Requirement already satisfied: backcall in c:\\users\\jun\\anaconda3\\envs\\env2\\lib\\site-packages (from ipython>=6.1.0->ipywidgets) (0.2.0)\n",
      "Requirement already satisfied: decorator in c:\\users\\jun\\anaconda3\\envs\\env2\\lib\\site-packages (from ipython>=6.1.0->ipywidgets) (5.1.1)\n",
      "Requirement already satisfied: jedi>=0.16 in c:\\users\\jun\\anaconda3\\envs\\env2\\lib\\site-packages (from ipython>=6.1.0->ipywidgets) (0.18.1)\n",
      "Requirement already satisfied: matplotlib-inline in c:\\users\\jun\\anaconda3\\envs\\env2\\lib\\site-packages (from ipython>=6.1.0->ipywidgets) (0.1.6)\n",
      "Requirement already satisfied: pickleshare in c:\\users\\jun\\anaconda3\\envs\\env2\\lib\\site-packages (from ipython>=6.1.0->ipywidgets) (0.7.5)\n",
      "Requirement already satisfied: prompt-toolkit!=3.0.37,<3.1.0,>=3.0.30 in c:\\users\\jun\\anaconda3\\envs\\env2\\lib\\site-packages (from ipython>=6.1.0->ipywidgets) (3.0.36)\n",
      "Requirement already satisfied: pygments>=2.4.0 in c:\\users\\jun\\anaconda3\\envs\\env2\\lib\\site-packages (from ipython>=6.1.0->ipywidgets) (2.15.1)\n",
      "Requirement already satisfied: stack-data in c:\\users\\jun\\anaconda3\\envs\\env2\\lib\\site-packages (from ipython>=6.1.0->ipywidgets) (0.2.0)\n",
      "Requirement already satisfied: colorama in c:\\users\\jun\\anaconda3\\envs\\env2\\lib\\site-packages (from ipython>=6.1.0->ipywidgets) (0.4.6)\n",
      "Requirement already satisfied: parso<0.9.0,>=0.8.0 in c:\\users\\jun\\anaconda3\\envs\\env2\\lib\\site-packages (from jedi>=0.16->ipython>=6.1.0->ipywidgets) (0.8.3)\n",
      "Requirement already satisfied: wcwidth in c:\\users\\jun\\anaconda3\\envs\\env2\\lib\\site-packages (from prompt-toolkit!=3.0.37,<3.1.0,>=3.0.30->ipython>=6.1.0->ipywidgets) (0.2.5)\n",
      "Requirement already satisfied: executing in c:\\users\\jun\\anaconda3\\envs\\env2\\lib\\site-packages (from stack-data->ipython>=6.1.0->ipywidgets) (0.8.3)\n",
      "Requirement already satisfied: asttokens in c:\\users\\jun\\anaconda3\\envs\\env2\\lib\\site-packages (from stack-data->ipython>=6.1.0->ipywidgets) (2.0.5)\n",
      "Requirement already satisfied: pure-eval in c:\\users\\jun\\anaconda3\\envs\\env2\\lib\\site-packages (from stack-data->ipython>=6.1.0->ipywidgets) (0.2.2)\n",
      "Requirement already satisfied: six in c:\\users\\jun\\anaconda3\\envs\\env2\\lib\\site-packages (from asttokens->stack-data->ipython>=6.1.0->ipywidgets) (1.16.0)\n",
      "Downloading ipywidgets-8.1.1-py3-none-any.whl (139 kB)\n",
      "   ---------------------------------------- 0.0/139.4 kB ? eta -:--:--\n",
      "   -------------------------------------- - 133.1/139.4 kB ? eta -:--:--\n",
      "   ---------------------------------------- 139.4/139.4 kB 2.8 MB/s eta 0:00:00\n",
      "Downloading comm-0.2.0-py3-none-any.whl (7.0 kB)\n",
      "Downloading jupyterlab_widgets-3.0.9-py3-none-any.whl (214 kB)\n",
      "   ---------------------------------------- 0.0/214.9 kB ? eta -:--:--\n",
      "   -------------------------------------- - 204.8/214.9 kB ? eta -:--:--\n",
      "   -------------------------------------- - 204.8/214.9 kB ? eta -:--:--\n",
      "   -------------------------------------- - 204.8/214.9 kB ? eta -:--:--\n",
      "   -------------------------------------- - 204.8/214.9 kB ? eta -:--:--\n",
      "   ---------------------------------------- 214.9/214.9 kB 1.0 MB/s eta 0:00:00\n",
      "Downloading widgetsnbextension-4.0.9-py3-none-any.whl (2.3 MB)\n",
      "   ---------------------------------------- 0.0/2.3 MB ? eta -:--:--\n",
      "   ------------------- -------------------- 1.1/2.3 MB 23.7 MB/s eta 0:00:01\n",
      "   ---------------------------------------  2.3/2.3 MB 29.3 MB/s eta 0:00:01\n",
      "   ---------------------------------------  2.3/2.3 MB 29.3 MB/s eta 0:00:01\n",
      "   ---------------------------------------  2.3/2.3 MB 29.3 MB/s eta 0:00:01\n",
      "   ---------------------------------------  2.3/2.3 MB 29.3 MB/s eta 0:00:01\n",
      "   ---------------------------------------- 2.3/2.3 MB 9.1 MB/s eta 0:00:00\n",
      "Installing collected packages: widgetsnbextension, jupyterlab-widgets, comm, ipywidgets\n",
      "  Attempting uninstall: comm\n",
      "    Found existing installation: comm 0.1.2\n",
      "    Uninstalling comm-0.1.2:\n",
      "      Successfully uninstalled comm-0.1.2\n",
      "Successfully installed comm-0.2.0 ipywidgets-8.1.1 jupyterlab-widgets-3.0.9 widgetsnbextension-4.0.9\n"
     ]
    }
   ],
   "source": [
    "!pip install ipywidgets"
   ]
  },
  {
   "cell_type": "code",
   "execution_count": 2,
   "id": "2bdc1018",
   "metadata": {},
   "outputs": [
    {
     "name": "stdout",
     "output_type": "stream",
     "text": [
      "Requirement already satisfied: sklearn-genetic-opt[all] in c:\\users\\jun\\anaconda3\\envs\\env2\\lib\\site-packages (0.10.1)\n",
      "Requirement already satisfied: scikit-learn>=1.1.0 in c:\\users\\jun\\anaconda3\\envs\\env2\\lib\\site-packages (from sklearn-genetic-opt[all]) (1.2.2)\n",
      "Requirement already satisfied: numpy>=1.19.0 in c:\\users\\jun\\anaconda3\\envs\\env2\\lib\\site-packages (from sklearn-genetic-opt[all]) (1.24.3)\n",
      "Requirement already satisfied: deap>=1.3.3 in c:\\users\\jun\\anaconda3\\envs\\env2\\lib\\site-packages (from sklearn-genetic-opt[all]) (1.4.1)\n",
      "Requirement already satisfied: tqdm>=4.61.1 in c:\\users\\jun\\anaconda3\\envs\\env2\\lib\\site-packages (from sklearn-genetic-opt[all]) (4.66.1)\n",
      "Collecting mlflow>=1.30.0 (from sklearn-genetic-opt[all])\n",
      "  Downloading mlflow-2.8.1-py3-none-any.whl.metadata (13 kB)\n",
      "Requirement already satisfied: seaborn>=0.11.2 in c:\\users\\jun\\anaconda3\\envs\\env2\\lib\\site-packages (from sklearn-genetic-opt[all]) (0.12.2)\n",
      "Requirement already satisfied: tensorflow>=2.0.0 in c:\\users\\jun\\anaconda3\\envs\\env2\\lib\\site-packages (from sklearn-genetic-opt[all]) (2.14.0)\n",
      "Requirement already satisfied: click<9,>=7.0 in c:\\users\\jun\\anaconda3\\envs\\env2\\lib\\site-packages (from mlflow>=1.30.0->sklearn-genetic-opt[all]) (8.0.4)\n",
      "Requirement already satisfied: cloudpickle<3 in c:\\users\\jun\\anaconda3\\envs\\env2\\lib\\site-packages (from mlflow>=1.30.0->sklearn-genetic-opt[all]) (2.2.1)\n",
      "Collecting databricks-cli<1,>=0.8.7 (from mlflow>=1.30.0->sklearn-genetic-opt[all])\n",
      "  Downloading databricks_cli-0.18.0-py2.py3-none-any.whl.metadata (4.0 kB)\n",
      "Requirement already satisfied: entrypoints<1 in c:\\users\\jun\\anaconda3\\envs\\env2\\lib\\site-packages (from mlflow>=1.30.0->sklearn-genetic-opt[all]) (0.4)\n",
      "Collecting gitpython<4,>=2.1.0 (from mlflow>=1.30.0->sklearn-genetic-opt[all])\n",
      "  Downloading GitPython-3.1.40-py3-none-any.whl.metadata (12 kB)\n",
      "Requirement already satisfied: pyyaml<7,>=5.1 in c:\\users\\jun\\anaconda3\\envs\\env2\\lib\\site-packages (from mlflow>=1.30.0->sklearn-genetic-opt[all]) (6.0)\n",
      "Requirement already satisfied: protobuf<5,>=3.12.0 in c:\\users\\jun\\anaconda3\\envs\\env2\\lib\\site-packages (from mlflow>=1.30.0->sklearn-genetic-opt[all]) (4.23.4)\n",
      "Requirement already satisfied: pytz<2024 in c:\\users\\jun\\anaconda3\\envs\\env2\\lib\\site-packages (from mlflow>=1.30.0->sklearn-genetic-opt[all]) (2022.7)\n",
      "Requirement already satisfied: requests<3,>=2.17.3 in c:\\users\\jun\\anaconda3\\envs\\env2\\lib\\site-packages (from mlflow>=1.30.0->sklearn-genetic-opt[all]) (2.29.0)\n",
      "Requirement already satisfied: packaging<24 in c:\\users\\jun\\anaconda3\\envs\\env2\\lib\\site-packages (from mlflow>=1.30.0->sklearn-genetic-opt[all]) (23.0)\n",
      "Requirement already satisfied: importlib-metadata!=4.7.0,<7,>=3.7.0 in c:\\users\\jun\\anaconda3\\envs\\env2\\lib\\site-packages (from mlflow>=1.30.0->sklearn-genetic-opt[all]) (6.0.0)\n",
      "Collecting sqlparse<1,>=0.4.0 (from mlflow>=1.30.0->sklearn-genetic-opt[all])\n",
      "  Downloading sqlparse-0.4.4-py3-none-any.whl (41 kB)\n",
      "     ---------------------------------------- 0.0/41.2 kB ? eta -:--:--\n",
      "     ---------------------------------------  41.0/41.2 kB ? eta -:--:--\n",
      "     -------------------------------------- 41.2/41.2 kB 998.2 kB/s eta 0:00:00\n",
      "Collecting alembic!=1.10.0,<2 (from mlflow>=1.30.0->sklearn-genetic-opt[all])\n",
      "  Downloading alembic-1.13.0-py3-none-any.whl.metadata (7.4 kB)\n",
      "Collecting docker<7,>=4.0.0 (from mlflow>=1.30.0->sklearn-genetic-opt[all])\n",
      "  Downloading docker-6.1.3-py3-none-any.whl.metadata (3.5 kB)\n",
      "Collecting Flask<4 (from mlflow>=1.30.0->sklearn-genetic-opt[all])\n",
      "  Downloading flask-3.0.0-py3-none-any.whl.metadata (3.6 kB)\n",
      "Requirement already satisfied: scipy<2 in c:\\users\\jun\\anaconda3\\envs\\env2\\lib\\site-packages (from mlflow>=1.30.0->sklearn-genetic-opt[all]) (1.10.1)\n",
      "Requirement already satisfied: pandas<3 in c:\\users\\jun\\anaconda3\\envs\\env2\\lib\\site-packages (from mlflow>=1.30.0->sklearn-genetic-opt[all]) (2.0.2)\n",
      "Collecting querystring-parser<2 (from mlflow>=1.30.0->sklearn-genetic-opt[all])\n",
      "  Downloading querystring_parser-1.2.4-py2.py3-none-any.whl (7.9 kB)\n",
      "Collecting sqlalchemy<3,>=1.4.0 (from mlflow>=1.30.0->sklearn-genetic-opt[all])\n",
      "  Downloading SQLAlchemy-2.0.23-cp311-cp311-win_amd64.whl.metadata (9.8 kB)\n",
      "Collecting pyarrow<15,>=4.0.0 (from mlflow>=1.30.0->sklearn-genetic-opt[all])\n",
      "  Downloading pyarrow-14.0.1-cp311-cp311-win_amd64.whl.metadata (3.1 kB)\n",
      "Requirement already satisfied: markdown<4,>=3.3 in c:\\users\\jun\\anaconda3\\envs\\env2\\lib\\site-packages (from mlflow>=1.30.0->sklearn-genetic-opt[all]) (3.5)\n",
      "Requirement already satisfied: matplotlib<4 in c:\\users\\jun\\anaconda3\\envs\\env2\\lib\\site-packages (from mlflow>=1.30.0->sklearn-genetic-opt[all]) (3.7.1)\n",
      "Collecting waitress<3 (from mlflow>=1.30.0->sklearn-genetic-opt[all])\n",
      "  Downloading waitress-2.1.2-py3-none-any.whl (57 kB)\n",
      "     ---------------------------------------- 0.0/57.7 kB ? eta -:--:--\n",
      "     ----------------------------------- ---- 51.2/57.7 kB ? eta -:--:--\n",
      "     -------------------------------------- 57.7/57.7 kB 754.0 kB/s eta 0:00:00\n",
      "Requirement already satisfied: Jinja2<4,>=3.0 in c:\\users\\jun\\anaconda3\\envs\\env2\\lib\\site-packages (from mlflow>=1.30.0->sklearn-genetic-opt[all]) (3.1.2)\n",
      "Requirement already satisfied: joblib>=1.1.1 in c:\\users\\jun\\anaconda3\\envs\\env2\\lib\\site-packages (from scikit-learn>=1.1.0->sklearn-genetic-opt[all]) (1.2.0)\n",
      "Requirement already satisfied: threadpoolctl>=2.0.0 in c:\\users\\jun\\anaconda3\\envs\\env2\\lib\\site-packages (from scikit-learn>=1.1.0->sklearn-genetic-opt[all]) (3.1.0)\n",
      "Requirement already satisfied: tensorflow-intel==2.14.0 in c:\\users\\jun\\anaconda3\\envs\\env2\\lib\\site-packages (from tensorflow>=2.0.0->sklearn-genetic-opt[all]) (2.14.0)\n",
      "Requirement already satisfied: absl-py>=1.0.0 in c:\\users\\jun\\anaconda3\\envs\\env2\\lib\\site-packages (from tensorflow-intel==2.14.0->tensorflow>=2.0.0->sklearn-genetic-opt[all]) (2.0.0)\n",
      "Requirement already satisfied: astunparse>=1.6.0 in c:\\users\\jun\\anaconda3\\envs\\env2\\lib\\site-packages (from tensorflow-intel==2.14.0->tensorflow>=2.0.0->sklearn-genetic-opt[all]) (1.6.3)\n",
      "Requirement already satisfied: flatbuffers>=23.5.26 in c:\\users\\jun\\anaconda3\\envs\\env2\\lib\\site-packages (from tensorflow-intel==2.14.0->tensorflow>=2.0.0->sklearn-genetic-opt[all]) (23.5.26)\n",
      "Requirement already satisfied: gast!=0.5.0,!=0.5.1,!=0.5.2,>=0.2.1 in c:\\users\\jun\\anaconda3\\envs\\env2\\lib\\site-packages (from tensorflow-intel==2.14.0->tensorflow>=2.0.0->sklearn-genetic-opt[all]) (0.5.4)\n",
      "Requirement already satisfied: google-pasta>=0.1.1 in c:\\users\\jun\\anaconda3\\envs\\env2\\lib\\site-packages (from tensorflow-intel==2.14.0->tensorflow>=2.0.0->sklearn-genetic-opt[all]) (0.2.0)\n",
      "Requirement already satisfied: h5py>=2.9.0 in c:\\users\\jun\\anaconda3\\envs\\env2\\lib\\site-packages (from tensorflow-intel==2.14.0->tensorflow>=2.0.0->sklearn-genetic-opt[all]) (3.10.0)\n",
      "Requirement already satisfied: libclang>=13.0.0 in c:\\users\\jun\\anaconda3\\envs\\env2\\lib\\site-packages (from tensorflow-intel==2.14.0->tensorflow>=2.0.0->sklearn-genetic-opt[all]) (16.0.6)\n",
      "Requirement already satisfied: ml-dtypes==0.2.0 in c:\\users\\jun\\anaconda3\\envs\\env2\\lib\\site-packages (from tensorflow-intel==2.14.0->tensorflow>=2.0.0->sklearn-genetic-opt[all]) (0.2.0)\n",
      "Requirement already satisfied: opt-einsum>=2.3.2 in c:\\users\\jun\\anaconda3\\envs\\env2\\lib\\site-packages (from tensorflow-intel==2.14.0->tensorflow>=2.0.0->sklearn-genetic-opt[all]) (3.3.0)\n",
      "Requirement already satisfied: setuptools in c:\\users\\jun\\anaconda3\\envs\\env2\\lib\\site-packages (from tensorflow-intel==2.14.0->tensorflow>=2.0.0->sklearn-genetic-opt[all]) (66.0.0)\n",
      "Requirement already satisfied: six>=1.12.0 in c:\\users\\jun\\anaconda3\\envs\\env2\\lib\\site-packages (from tensorflow-intel==2.14.0->tensorflow>=2.0.0->sklearn-genetic-opt[all]) (1.16.0)\n",
      "Requirement already satisfied: termcolor>=1.1.0 in c:\\users\\jun\\anaconda3\\envs\\env2\\lib\\site-packages (from tensorflow-intel==2.14.0->tensorflow>=2.0.0->sklearn-genetic-opt[all]) (2.3.0)\n",
      "Requirement already satisfied: typing-extensions>=3.6.6 in c:\\users\\jun\\anaconda3\\envs\\env2\\lib\\site-packages (from tensorflow-intel==2.14.0->tensorflow>=2.0.0->sklearn-genetic-opt[all]) (4.5.0)\n",
      "Requirement already satisfied: wrapt<1.15,>=1.11.0 in c:\\users\\jun\\anaconda3\\envs\\env2\\lib\\site-packages (from tensorflow-intel==2.14.0->tensorflow>=2.0.0->sklearn-genetic-opt[all]) (1.14.1)\n",
      "Requirement already satisfied: tensorflow-io-gcs-filesystem>=0.23.1 in c:\\users\\jun\\anaconda3\\envs\\env2\\lib\\site-packages (from tensorflow-intel==2.14.0->tensorflow>=2.0.0->sklearn-genetic-opt[all]) (0.31.0)\n",
      "Requirement already satisfied: grpcio<2.0,>=1.24.3 in c:\\users\\jun\\anaconda3\\envs\\env2\\lib\\site-packages (from tensorflow-intel==2.14.0->tensorflow>=2.0.0->sklearn-genetic-opt[all]) (1.59.0)\n",
      "Requirement already satisfied: tensorboard<2.15,>=2.14 in c:\\users\\jun\\anaconda3\\envs\\env2\\lib\\site-packages (from tensorflow-intel==2.14.0->tensorflow>=2.0.0->sklearn-genetic-opt[all]) (2.14.1)\n",
      "Collecting tensorflow-estimator<2.15,>=2.14.0 (from tensorflow-intel==2.14.0->tensorflow>=2.0.0->sklearn-genetic-opt[all])\n",
      "  Downloading tensorflow_estimator-2.14.0-py2.py3-none-any.whl.metadata (1.3 kB)\n",
      "Requirement already satisfied: keras<2.15,>=2.14.0 in c:\\users\\jun\\anaconda3\\envs\\env2\\lib\\site-packages (from tensorflow-intel==2.14.0->tensorflow>=2.0.0->sklearn-genetic-opt[all]) (2.14.0)\n",
      "Requirement already satisfied: colorama in c:\\users\\jun\\anaconda3\\envs\\env2\\lib\\site-packages (from tqdm>=4.61.1->sklearn-genetic-opt[all]) (0.4.6)\n",
      "Collecting Mako (from alembic!=1.10.0,<2->mlflow>=1.30.0->sklearn-genetic-opt[all])\n",
      "  Downloading Mako-1.3.0-py3-none-any.whl.metadata (2.9 kB)\n",
      "Collecting pyjwt>=1.7.0 (from databricks-cli<1,>=0.8.7->mlflow>=1.30.0->sklearn-genetic-opt[all])\n",
      "  Downloading PyJWT-2.8.0-py3-none-any.whl.metadata (4.2 kB)\n",
      "Requirement already satisfied: oauthlib>=3.1.0 in c:\\users\\jun\\anaconda3\\envs\\env2\\lib\\site-packages (from databricks-cli<1,>=0.8.7->mlflow>=1.30.0->sklearn-genetic-opt[all]) (3.2.2)\n",
      "Collecting tabulate>=0.7.7 (from databricks-cli<1,>=0.8.7->mlflow>=1.30.0->sklearn-genetic-opt[all])\n",
      "  Downloading tabulate-0.9.0-py3-none-any.whl (35 kB)\n",
      "Requirement already satisfied: urllib3<3,>=1.26.7 in c:\\users\\jun\\anaconda3\\envs\\env2\\lib\\site-packages (from databricks-cli<1,>=0.8.7->mlflow>=1.30.0->sklearn-genetic-opt[all]) (1.26.15)\n",
      "Requirement already satisfied: websocket-client>=0.32.0 in c:\\users\\jun\\anaconda3\\envs\\env2\\lib\\site-packages (from docker<7,>=4.0.0->mlflow>=1.30.0->sklearn-genetic-opt[all]) (0.58.0)\n",
      "Requirement already satisfied: pywin32>=304 in c:\\users\\jun\\anaconda3\\envs\\env2\\lib\\site-packages (from docker<7,>=4.0.0->mlflow>=1.30.0->sklearn-genetic-opt[all]) (305.1)\n",
      "Requirement already satisfied: Werkzeug>=3.0.0 in c:\\users\\jun\\anaconda3\\envs\\env2\\lib\\site-packages (from Flask<4->mlflow>=1.30.0->sklearn-genetic-opt[all]) (3.0.1)\n",
      "Collecting itsdangerous>=2.1.2 (from Flask<4->mlflow>=1.30.0->sklearn-genetic-opt[all])\n",
      "  Downloading itsdangerous-2.1.2-py3-none-any.whl (15 kB)\n",
      "Collecting click<9,>=7.0 (from mlflow>=1.30.0->sklearn-genetic-opt[all])\n",
      "  Downloading click-8.1.7-py3-none-any.whl.metadata (3.0 kB)\n",
      "Collecting blinker>=1.6.2 (from Flask<4->mlflow>=1.30.0->sklearn-genetic-opt[all])\n",
      "  Downloading blinker-1.7.0-py3-none-any.whl.metadata (1.9 kB)\n",
      "Collecting gitdb<5,>=4.0.1 (from gitpython<4,>=2.1.0->mlflow>=1.30.0->sklearn-genetic-opt[all])\n",
      "  Downloading gitdb-4.0.11-py3-none-any.whl.metadata (1.2 kB)\n",
      "Requirement already satisfied: zipp>=0.5 in c:\\users\\jun\\anaconda3\\envs\\env2\\lib\\site-packages (from importlib-metadata!=4.7.0,<7,>=3.7.0->mlflow>=1.30.0->sklearn-genetic-opt[all]) (3.11.0)\n",
      "Requirement already satisfied: MarkupSafe>=2.0 in c:\\users\\jun\\anaconda3\\envs\\env2\\lib\\site-packages (from Jinja2<4,>=3.0->mlflow>=1.30.0->sklearn-genetic-opt[all]) (2.1.1)\n",
      "Requirement already satisfied: contourpy>=1.0.1 in c:\\users\\jun\\anaconda3\\envs\\env2\\lib\\site-packages (from matplotlib<4->mlflow>=1.30.0->sklearn-genetic-opt[all]) (1.0.5)\n",
      "Requirement already satisfied: cycler>=0.10 in c:\\users\\jun\\anaconda3\\envs\\env2\\lib\\site-packages (from matplotlib<4->mlflow>=1.30.0->sklearn-genetic-opt[all]) (0.11.0)\n",
      "Requirement already satisfied: fonttools>=4.22.0 in c:\\users\\jun\\anaconda3\\envs\\env2\\lib\\site-packages (from matplotlib<4->mlflow>=1.30.0->sklearn-genetic-opt[all]) (4.25.0)\n",
      "Requirement already satisfied: kiwisolver>=1.0.1 in c:\\users\\jun\\anaconda3\\envs\\env2\\lib\\site-packages (from matplotlib<4->mlflow>=1.30.0->sklearn-genetic-opt[all]) (1.4.4)\n",
      "Requirement already satisfied: pillow>=6.2.0 in c:\\users\\jun\\anaconda3\\envs\\env2\\lib\\site-packages (from matplotlib<4->mlflow>=1.30.0->sklearn-genetic-opt[all]) (9.4.0)\n",
      "Requirement already satisfied: pyparsing>=2.3.1 in c:\\users\\jun\\anaconda3\\envs\\env2\\lib\\site-packages (from matplotlib<4->mlflow>=1.30.0->sklearn-genetic-opt[all]) (3.0.9)\n",
      "Requirement already satisfied: python-dateutil>=2.7 in c:\\users\\jun\\anaconda3\\envs\\env2\\lib\\site-packages (from matplotlib<4->mlflow>=1.30.0->sklearn-genetic-opt[all]) (2.8.2)\n",
      "Requirement already satisfied: tzdata>=2022.1 in c:\\users\\jun\\anaconda3\\envs\\env2\\lib\\site-packages (from pandas<3->mlflow>=1.30.0->sklearn-genetic-opt[all]) (2023.3)\n",
      "Requirement already satisfied: charset-normalizer<4,>=2 in c:\\users\\jun\\anaconda3\\envs\\env2\\lib\\site-packages (from requests<3,>=2.17.3->mlflow>=1.30.0->sklearn-genetic-opt[all]) (2.0.4)\n",
      "Requirement already satisfied: idna<4,>=2.5 in c:\\users\\jun\\anaconda3\\envs\\env2\\lib\\site-packages (from requests<3,>=2.17.3->mlflow>=1.30.0->sklearn-genetic-opt[all]) (3.4)\n",
      "Requirement already satisfied: certifi>=2017.4.17 in c:\\users\\jun\\anaconda3\\envs\\env2\\lib\\site-packages (from requests<3,>=2.17.3->mlflow>=1.30.0->sklearn-genetic-opt[all]) (2023.5.7)\n",
      "Collecting greenlet!=0.4.17 (from sqlalchemy<3,>=1.4.0->mlflow>=1.30.0->sklearn-genetic-opt[all])\n",
      "  Downloading greenlet-3.0.1-cp311-cp311-win_amd64.whl.metadata (3.8 kB)\n",
      "Requirement already satisfied: wheel<1.0,>=0.23.0 in c:\\users\\jun\\anaconda3\\envs\\env2\\lib\\site-packages (from astunparse>=1.6.0->tensorflow-intel==2.14.0->tensorflow>=2.0.0->sklearn-genetic-opt[all]) (0.38.4)\n",
      "Collecting smmap<6,>=3.0.1 (from gitdb<5,>=4.0.1->gitpython<4,>=2.1.0->mlflow>=1.30.0->sklearn-genetic-opt[all])\n",
      "  Downloading smmap-5.0.1-py3-none-any.whl.metadata (4.3 kB)\n",
      "Requirement already satisfied: google-auth<3,>=1.6.3 in c:\\users\\jun\\anaconda3\\envs\\env2\\lib\\site-packages (from tensorboard<2.15,>=2.14->tensorflow-intel==2.14.0->tensorflow>=2.0.0->sklearn-genetic-opt[all]) (2.23.2)\n",
      "Requirement already satisfied: google-auth-oauthlib<1.1,>=0.5 in c:\\users\\jun\\anaconda3\\envs\\env2\\lib\\site-packages (from tensorboard<2.15,>=2.14->tensorflow-intel==2.14.0->tensorflow>=2.0.0->sklearn-genetic-opt[all]) (1.0.0)\n",
      "Requirement already satisfied: tensorboard-data-server<0.8.0,>=0.7.0 in c:\\users\\jun\\anaconda3\\envs\\env2\\lib\\site-packages (from tensorboard<2.15,>=2.14->tensorflow-intel==2.14.0->tensorflow>=2.0.0->sklearn-genetic-opt[all]) (0.7.2)\n",
      "Requirement already satisfied: cachetools<6.0,>=2.0.0 in c:\\users\\jun\\anaconda3\\envs\\env2\\lib\\site-packages (from google-auth<3,>=1.6.3->tensorboard<2.15,>=2.14->tensorflow-intel==2.14.0->tensorflow>=2.0.0->sklearn-genetic-opt[all]) (5.3.1)\n",
      "Requirement already satisfied: pyasn1-modules>=0.2.1 in c:\\users\\jun\\anaconda3\\envs\\env2\\lib\\site-packages (from google-auth<3,>=1.6.3->tensorboard<2.15,>=2.14->tensorflow-intel==2.14.0->tensorflow>=2.0.0->sklearn-genetic-opt[all]) (0.3.0)\n",
      "Requirement already satisfied: rsa<5,>=3.1.4 in c:\\users\\jun\\anaconda3\\envs\\env2\\lib\\site-packages (from google-auth<3,>=1.6.3->tensorboard<2.15,>=2.14->tensorflow-intel==2.14.0->tensorflow>=2.0.0->sklearn-genetic-opt[all]) (4.9)\n",
      "Requirement already satisfied: requests-oauthlib>=0.7.0 in c:\\users\\jun\\anaconda3\\envs\\env2\\lib\\site-packages (from google-auth-oauthlib<1.1,>=0.5->tensorboard<2.15,>=2.14->tensorflow-intel==2.14.0->tensorflow>=2.0.0->sklearn-genetic-opt[all]) (1.3.1)\n",
      "Requirement already satisfied: pyasn1<0.6.0,>=0.4.6 in c:\\users\\jun\\anaconda3\\envs\\env2\\lib\\site-packages (from pyasn1-modules>=0.2.1->google-auth<3,>=1.6.3->tensorboard<2.15,>=2.14->tensorflow-intel==2.14.0->tensorflow>=2.0.0->sklearn-genetic-opt[all]) (0.5.0)\n",
      "Downloading mlflow-2.8.1-py3-none-any.whl (19.0 MB)\n",
      "   ---------------------------------------- 0.0/19.0 MB ? eta -:--:--\n",
      "   - -------------------------------------- 0.9/19.0 MB 29.4 MB/s eta 0:00:01\n",
      "   ---- ----------------------------------- 2.4/19.0 MB 30.2 MB/s eta 0:00:01\n",
      "   -------- ------------------------------- 3.9/19.0 MB 30.7 MB/s eta 0:00:01\n",
      "   ----------- ---------------------------- 5.3/19.0 MB 30.6 MB/s eta 0:00:01\n",
      "   -------------- ------------------------- 6.7/19.0 MB 30.8 MB/s eta 0:00:01\n",
      "   ----------------- ---------------------- 8.2/19.0 MB 31.0 MB/s eta 0:00:01\n",
      "   -------------------- ------------------- 9.8/19.0 MB 31.3 MB/s eta 0:00:01\n",
      "   ------------------------ --------------- 11.6/19.0 MB 34.4 MB/s eta 0:00:01\n",
      "   ---------------------------- ----------- 13.5/19.0 MB 34.4 MB/s eta 0:00:01\n",
      "   -------------------------------- ------- 15.4/19.0 MB 36.4 MB/s eta 0:00:01\n",
      "   ----------------------------------- ---- 16.7/19.0 MB 38.6 MB/s eta 0:00:01\n",
      "   ---------------------------------------  19.0/19.0 MB 38.5 MB/s eta 0:00:01\n",
      "   ---------------------------------------  19.0/19.0 MB 38.5 MB/s eta 0:00:01\n",
      "   ---------------------------------------  19.0/19.0 MB 38.5 MB/s eta 0:00:01\n",
      "   ---------------------------------------  19.0/19.0 MB 38.5 MB/s eta 0:00:01\n",
      "   ---------------------------------------  19.0/19.0 MB 38.5 MB/s eta 0:00:01\n",
      "   ---------------------------------------  19.0/19.0 MB 38.5 MB/s eta 0:00:01\n",
      "   ---------------------------------------  19.0/19.0 MB 38.5 MB/s eta 0:00:01\n",
      "   ---------------------------------------  19.0/19.0 MB 38.5 MB/s eta 0:00:01\n",
      "   ---------------------------------------  19.0/19.0 MB 38.5 MB/s eta 0:00:01\n",
      "   ---------------------------------------  19.0/19.0 MB 38.5 MB/s eta 0:00:01\n",
      "   ---------------------------------------  19.0/19.0 MB 38.5 MB/s eta 0:00:01\n",
      "   ---------------------------------------  19.0/19.0 MB 38.5 MB/s eta 0:00:01\n",
      "   ---------------------------------------  19.0/19.0 MB 38.5 MB/s eta 0:00:01\n",
      "   ---------------------------------------  19.0/19.0 MB 38.5 MB/s eta 0:00:01\n",
      "   ---------------------------------------  19.0/19.0 MB 38.5 MB/s eta 0:00:01\n",
      "   ---------------------------------------  19.0/19.0 MB 38.5 MB/s eta 0:00:01\n",
      "   ---------------------------------------  19.0/19.0 MB 38.5 MB/s eta 0:00:01\n",
      "   ---------------------------------------  19.0/19.0 MB 38.5 MB/s eta 0:00:01\n",
      "   ---------------------------------------  19.0/19.0 MB 38.5 MB/s eta 0:00:01\n",
      "   ---------------------------------------  19.0/19.0 MB 38.5 MB/s eta 0:00:01\n",
      "   ---------------------------------------  19.0/19.0 MB 38.5 MB/s eta 0:00:01\n",
      "   ---------------------------------------  19.0/19.0 MB 38.5 MB/s eta 0:00:01\n",
      "   ---------------------------------------  19.0/19.0 MB 38.5 MB/s eta 0:00:01\n",
      "   ---------------------------------------  19.0/19.0 MB 38.5 MB/s eta 0:00:01\n",
      "   ---------------------------------------  19.0/19.0 MB 38.5 MB/s eta 0:00:01\n",
      "   ---------------------------------------  19.0/19.0 MB 38.5 MB/s eta 0:00:01\n",
      "   ---------------------------------------  19.0/19.0 MB 38.5 MB/s eta 0:00:01\n",
      "   ---------------------------------------  19.0/19.0 MB 38.5 MB/s eta 0:00:01\n",
      "   ---------------------------------------  19.0/19.0 MB 38.5 MB/s eta 0:00:01\n",
      "   ---------------------------------------  19.0/19.0 MB 38.5 MB/s eta 0:00:01\n",
      "   ---------------------------------------- 19.0/19.0 MB 6.1 MB/s eta 0:00:00\n",
      "Downloading alembic-1.13.0-py3-none-any.whl (230 kB)\n",
      "   ---------------------------------------- 0.0/230.6 kB ? eta -:--:--\n",
      "   ---------------------------------------  225.3/230.6 kB ? eta -:--:--\n",
      "   ---------------------------------------  225.3/230.6 kB ? eta -:--:--\n",
      "   ---------------------------------------  225.3/230.6 kB ? eta -:--:--\n",
      "   ---------------------------------------- 230.6/230.6 kB 1.6 MB/s eta 0:00:00\n",
      "Downloading databricks_cli-0.18.0-py2.py3-none-any.whl (150 kB)\n",
      "   ---------------------------------------- 0.0/150.3 kB ? eta -:--:--\n",
      "   -------------------------------------- - 143.4/150.3 kB ? eta -:--:--\n",
      "   -------------------------------------- - 143.4/150.3 kB ? eta -:--:--\n",
      "   ---------------------------------------- 150.3/150.3 kB 1.5 MB/s eta 0:00:00\n",
      "Downloading docker-6.1.3-py3-none-any.whl (148 kB)\n",
      "   ---------------------------------------- 0.0/148.1 kB ? eta -:--:--\n",
      "   -------------------------------------- - 143.4/148.1 kB ? eta -:--:--\n",
      "   ---------------------------------------- 148.1/148.1 kB 1.7 MB/s eta 0:00:00\n",
      "Downloading flask-3.0.0-py3-none-any.whl (99 kB)\n",
      "   ---------------------------------------- 0.0/99.7 kB ? eta -:--:--\n",
      "   ------------------------------------ --- 92.2/99.7 kB ? eta -:--:--\n",
      "   ------------------------------------ --- 92.2/99.7 kB ? eta -:--:--\n",
      "   ---------------------------------------- 99.7/99.7 kB 821.0 kB/s eta 0:00:00\n",
      "Downloading click-8.1.7-py3-none-any.whl (97 kB)\n",
      "   ---------------------------------------- 0.0/97.9 kB ? eta -:--:--\n",
      "   ------------------------------------- -- 92.2/97.9 kB ? eta -:--:--\n",
      "   ---------------------------------------- 97.9/97.9 kB 1.4 MB/s eta 0:00:00\n",
      "Downloading GitPython-3.1.40-py3-none-any.whl (190 kB)\n",
      "   ---------------------------------------- 0.0/190.6 kB ? eta -:--:--\n",
      "   -------------------------------------- - 184.3/190.6 kB ? eta -:--:--\n",
      "   ---------------------------------------- 190.6/190.6 kB 2.3 MB/s eta 0:00:00\n",
      "Downloading pyarrow-14.0.1-cp311-cp311-win_amd64.whl (24.6 MB)\n",
      "   ---------------------------------------- 0.0/24.6 MB ? eta -:--:--\n",
      "   - -------------------------------------- 1.1/24.6 MB 23.7 MB/s eta 0:00:01\n",
      "   ---- ----------------------------------- 2.6/24.6 MB 27.3 MB/s eta 0:00:01\n",
      "   ------ --------------------------------- 4.0/24.6 MB 28.5 MB/s eta 0:00:01\n",
      "   -------- ------------------------------- 5.5/24.6 MB 29.2 MB/s eta 0:00:01\n",
      "   ----------- ---------------------------- 7.0/24.6 MB 29.7 MB/s eta 0:00:01\n",
      "   ------------- -------------------------- 8.4/24.6 MB 30.0 MB/s eta 0:00:01\n",
      "   ---------------- ----------------------- 9.9/24.6 MB 30.2 MB/s eta 0:00:01\n",
      "   ------------------ --------------------- 11.3/24.6 MB 31.2 MB/s eta 0:00:01\n",
      "   -------------------- ------------------- 12.8/24.6 MB 31.2 MB/s eta 0:00:01\n",
      "   ----------------------- ---------------- 14.3/24.6 MB 31.2 MB/s eta 0:00:01\n",
      "   ------------------------- -------------- 15.7/24.6 MB 31.2 MB/s eta 0:00:01\n",
      "   --------------------------- ------------ 16.8/24.6 MB 31.2 MB/s eta 0:00:01\n",
      "   ----------------------------- ---------- 17.9/24.6 MB 28.5 MB/s eta 0:00:01\n",
      "   ------------------------------- -------- 19.4/24.6 MB 28.5 MB/s eta 0:00:01\n",
      "   ---------------------------------- ----- 21.1/24.6 MB 29.7 MB/s eta 0:00:01\n",
      "   ------------------------------------- -- 22.9/24.6 MB 31.2 MB/s eta 0:00:01\n",
      "   ---------------------------------------  24.6/24.6 MB 31.2 MB/s eta 0:00:01\n",
      "   ---------------------------------------  24.6/24.6 MB 31.2 MB/s eta 0:00:01\n",
      "   ---------------------------------------  24.6/24.6 MB 31.2 MB/s eta 0:00:01\n",
      "   ---------------------------------------  24.6/24.6 MB 31.2 MB/s eta 0:00:01\n",
      "   ---------------------------------------  24.6/24.6 MB 31.2 MB/s eta 0:00:01\n",
      "   ---------------------------------------  24.6/24.6 MB 31.2 MB/s eta 0:00:01\n",
      "   ---------------------------------------  24.6/24.6 MB 31.2 MB/s eta 0:00:01\n",
      "   ---------------------------------------  24.6/24.6 MB 31.2 MB/s eta 0:00:01\n",
      "   ---------------------------------------  24.6/24.6 MB 31.2 MB/s eta 0:00:01\n",
      "   ---------------------------------------  24.6/24.6 MB 31.2 MB/s eta 0:00:01\n",
      "   ---------------------------------------  24.6/24.6 MB 31.2 MB/s eta 0:00:01\n",
      "   ---------------------------------------  24.6/24.6 MB 31.2 MB/s eta 0:00:01\n",
      "   ---------------------------------------  24.6/24.6 MB 31.2 MB/s eta 0:00:01\n",
      "   ---------------------------------------  24.6/24.6 MB 31.2 MB/s eta 0:00:01\n",
      "   ---------------------------------------  24.6/24.6 MB 31.2 MB/s eta 0:00:01\n",
      "   ---------------------------------------  24.6/24.6 MB 31.2 MB/s eta 0:00:01\n",
      "   ---------------------------------------  24.6/24.6 MB 31.2 MB/s eta 0:00:01\n",
      "   ---------------------------------------  24.6/24.6 MB 31.2 MB/s eta 0:00:01\n",
      "   ---------------------------------------  24.6/24.6 MB 31.2 MB/s eta 0:00:01\n",
      "   ---------------------------------------  24.6/24.6 MB 31.2 MB/s eta 0:00:01\n",
      "   ---------------------------------------  24.6/24.6 MB 31.2 MB/s eta 0:00:01\n",
      "   ---------------------------------------  24.6/24.6 MB 31.2 MB/s eta 0:00:01\n",
      "   ---------------------------------------  24.6/24.6 MB 31.2 MB/s eta 0:00:01\n",
      "   ---------------------------------------  24.6/24.6 MB 31.2 MB/s eta 0:00:01\n",
      "   ---------------------------------------  24.6/24.6 MB 31.2 MB/s eta 0:00:01\n",
      "   ---------------------------------------  24.6/24.6 MB 31.2 MB/s eta 0:00:01\n",
      "   ---------------------------------------  24.6/24.6 MB 31.2 MB/s eta 0:00:01\n",
      "   ---------------------------------------  24.6/24.6 MB 31.2 MB/s eta 0:00:01\n",
      "   ---------------------------------------  24.6/24.6 MB 31.2 MB/s eta 0:00:01\n",
      "   ---------------------------------------  24.6/24.6 MB 31.2 MB/s eta 0:00:01\n",
      "   ---------------------------------------  24.6/24.6 MB 31.2 MB/s eta 0:00:01\n",
      "   ---------------------------------------  24.6/24.6 MB 31.2 MB/s eta 0:00:01\n",
      "   ---------------------------------------  24.6/24.6 MB 31.2 MB/s eta 0:00:01\n",
      "   ---------------------------------------  24.6/24.6 MB 31.2 MB/s eta 0:00:01\n",
      "   ---------------------------------------  24.6/24.6 MB 31.2 MB/s eta 0:00:01\n",
      "   ---------------------------------------  24.6/24.6 MB 31.2 MB/s eta 0:00:01\n",
      "   ---------------------------------------  24.6/24.6 MB 31.2 MB/s eta 0:00:01\n",
      "   ---------------------------------------  24.6/24.6 MB 31.2 MB/s eta 0:00:01\n",
      "   ---------------------------------------  24.6/24.6 MB 31.2 MB/s eta 0:00:01\n",
      "   ---------------------------------------  24.6/24.6 MB 31.2 MB/s eta 0:00:01\n",
      "   ---------------------------------------  24.6/24.6 MB 31.2 MB/s eta 0:00:01\n",
      "   ---------------------------------------  24.6/24.6 MB 31.2 MB/s eta 0:00:01\n",
      "   ---------------------------------------  24.6/24.6 MB 31.2 MB/s eta 0:00:01\n",
      "   ---------------------------------------  24.6/24.6 MB 31.2 MB/s eta 0:00:01\n",
      "   ---------------------------------------  24.6/24.6 MB 31.2 MB/s eta 0:00:01\n",
      "   ---------------------------------------  24.6/24.6 MB 31.2 MB/s eta 0:00:01\n",
      "   ---------------------------------------  24.6/24.6 MB 31.2 MB/s eta 0:00:01\n",
      "   ---------------------------------------  24.6/24.6 MB 31.2 MB/s eta 0:00:01\n",
      "   ---------------------------------------  24.6/24.6 MB 31.2 MB/s eta 0:00:01\n",
      "   ---------------------------------------  24.6/24.6 MB 31.2 MB/s eta 0:00:01\n",
      "   ---------------------------------------  24.6/24.6 MB 31.2 MB/s eta 0:00:01\n",
      "   ---------------------------------------  24.6/24.6 MB 31.2 MB/s eta 0:00:01\n",
      "   ---------------------------------------  24.6/24.6 MB 31.2 MB/s eta 0:00:01\n",
      "   ---------------------------------------  24.6/24.6 MB 31.2 MB/s eta 0:00:01\n",
      "   ---------------------------------------  24.6/24.6 MB 31.2 MB/s eta 0:00:01\n",
      "   ---------------------------------------  24.6/24.6 MB 31.2 MB/s eta 0:00:01\n",
      "   ---------------------------------------  24.6/24.6 MB 31.2 MB/s eta 0:00:01\n",
      "   ---------------------------------------  24.6/24.6 MB 31.2 MB/s eta 0:00:01\n",
      "   ---------------------------------------  24.6/24.6 MB 31.2 MB/s eta 0:00:01\n",
      "   ---------------------------------------  24.6/24.6 MB 31.2 MB/s eta 0:00:01\n",
      "   ---------------------------------------  24.6/24.6 MB 31.2 MB/s eta 0:00:01\n",
      "   ---------------------------------------  24.6/24.6 MB 31.2 MB/s eta 0:00:01\n",
      "   ---------------------------------------  24.6/24.6 MB 31.2 MB/s eta 0:00:01\n",
      "   ---------------------------------------  24.6/24.6 MB 31.2 MB/s eta 0:00:01\n",
      "   ---------------------------------------  24.6/24.6 MB 31.2 MB/s eta 0:00:01\n",
      "   ---------------------------------------  24.6/24.6 MB 31.2 MB/s eta 0:00:01\n",
      "   ---------------------------------------  24.6/24.6 MB 31.2 MB/s eta 0:00:01\n",
      "   ---------------------------------------  24.6/24.6 MB 31.2 MB/s eta 0:00:01\n",
      "   ---------------------------------------  24.6/24.6 MB 31.2 MB/s eta 0:00:01\n",
      "   ---------------------------------------  24.6/24.6 MB 31.2 MB/s eta 0:00:01\n",
      "   ---------------------------------------  24.6/24.6 MB 31.2 MB/s eta 0:00:01\n",
      "   ---------------------------------------  24.6/24.6 MB 31.2 MB/s eta 0:00:01\n",
      "   ---------------------------------------  24.6/24.6 MB 31.2 MB/s eta 0:00:01\n",
      "   ---------------------------------------- 24.6/24.6 MB 2.7 MB/s eta 0:00:00\n",
      "Downloading SQLAlchemy-2.0.23-cp311-cp311-win_amd64.whl (2.1 MB)\n",
      "   ---------------------------------------- 0.0/2.1 MB ? eta -:--:--\n",
      "   ----------------------------- ---------- 1.5/2.1 MB 32.5 MB/s eta 0:00:01\n",
      "   ---------------------------------------  2.1/2.1 MB 32.5 MB/s eta 0:00:01\n",
      "   ---------------------------------------  2.1/2.1 MB 32.5 MB/s eta 0:00:01\n",
      "   ---------------------------------------  2.1/2.1 MB 32.5 MB/s eta 0:00:01\n",
      "   ---------------------------------------  2.1/2.1 MB 32.5 MB/s eta 0:00:01\n",
      "   ---------------------------------------  2.1/2.1 MB 32.5 MB/s eta 0:00:01\n",
      "   ---------------------------------------  2.1/2.1 MB 32.5 MB/s eta 0:00:01\n",
      "   ---------------------------------------  2.1/2.1 MB 32.5 MB/s eta 0:00:01\n",
      "   ---------------------------------------  2.1/2.1 MB 32.5 MB/s eta 0:00:01\n",
      "   ---------------------------------------- 2.1/2.1 MB 4.5 MB/s eta 0:00:00\n",
      "Downloading blinker-1.7.0-py3-none-any.whl (13 kB)\n",
      "Downloading gitdb-4.0.11-py3-none-any.whl (62 kB)\n",
      "   ---------------------------------------- 0.0/62.7 kB ? eta -:--:--\n",
      "   ---------------------------------------  61.4/62.7 kB ? eta -:--:--\n",
      "   ---------------------------------------- 62.7/62.7 kB 846.5 kB/s eta 0:00:00\n",
      "Downloading greenlet-3.0.1-cp311-cp311-win_amd64.whl (288 kB)\n",
      "   ---------------------------------------- 0.0/288.4 kB ? eta -:--:--\n",
      "   ---------------------------------------  286.7/288.4 kB ? eta -:--:--\n",
      "   ---------------------------------------- 288.4/288.4 kB 3.6 MB/s eta 0:00:00\n",
      "Downloading PyJWT-2.8.0-py3-none-any.whl (22 kB)\n",
      "Downloading tensorflow_estimator-2.14.0-py2.py3-none-any.whl (440 kB)\n",
      "   ---------------------------------------- 0.0/440.7 kB ? eta -:--:--\n",
      "   ---------------------------------------  440.3/440.7 kB ? eta -:--:--\n",
      "   ---------------------------------------- 440.7/440.7 kB 5.5 MB/s eta 0:00:00\n",
      "Downloading Mako-1.3.0-py3-none-any.whl (78 kB)\n",
      "   ---------------------------------------- 0.0/78.6 kB ? eta -:--:--\n",
      "   ------------------------------------ --- 71.7/78.6 kB ? eta -:--:--\n",
      "   ---------------------------------------- 78.6/78.6 kB 1.1 MB/s eta 0:00:00\n",
      "Downloading smmap-5.0.1-py3-none-any.whl (24 kB)\n",
      "Installing collected packages: waitress, tensorflow-estimator, tabulate, sqlparse, smmap, querystring-parser, pyjwt, pyarrow, Mako, itsdangerous, greenlet, click, blinker, sqlalchemy, gitdb, Flask, docker, databricks-cli, gitpython, alembic, mlflow\n",
      "  Attempting uninstall: tensorflow-estimator\n",
      "    Found existing installation: tensorflow-estimator 2.15.0\n",
      "    Uninstalling tensorflow-estimator-2.15.0:\n",
      "      Successfully uninstalled tensorflow-estimator-2.15.0\n",
      "  Attempting uninstall: click\n",
      "    Found existing installation: click 8.0.4\n",
      "    Uninstalling click-8.0.4:\n",
      "      Successfully uninstalled click-8.0.4\n",
      "Successfully installed Flask-3.0.0 Mako-1.3.0 alembic-1.13.0 blinker-1.7.0 click-8.1.7 databricks-cli-0.18.0 docker-6.1.3 gitdb-4.0.11 gitpython-3.1.40 greenlet-3.0.1 itsdangerous-2.1.2 mlflow-2.8.1 pyarrow-14.0.1 pyjwt-2.8.0 querystring-parser-1.2.4 smmap-5.0.1 sqlalchemy-2.0.23 sqlparse-0.4.4 tabulate-0.9.0 tensorflow-estimator-2.14.0 waitress-2.1.2\n"
     ]
    },
    {
     "name": "stderr",
     "output_type": "stream",
     "text": [
      "ERROR: pip's dependency resolver does not currently take into account all the packages that are installed. This behaviour is the source of the following dependency conflicts.\n",
      "python-lsp-black 1.2.1 requires black>=22.3.0, but you have black 0.0 which is incompatible.\n"
     ]
    }
   ],
   "source": [
    "!pip install sklearn-genetic-opt[all]"
   ]
  },
  {
   "cell_type": "code",
   "execution_count": 5,
   "id": "5380b3f2",
   "metadata": {},
   "outputs": [],
   "source": [
    "from sklearn_genetic import GAFeatureSelectionCV, ExponentialAdapter\n",
    "from sklearn.model_selection import train_test_split\n",
    "from sklearn.svm import SVC\n",
    "from sklearn.datasets import load_iris\n",
    "from sklearn.metrics import accuracy_score\n",
    "import numpy as np\n",
    "import pandas as pd"
   ]
  },
  {
   "cell_type": "code",
   "execution_count": 6,
   "id": "e094ed77",
   "metadata": {},
   "outputs": [],
   "source": [
    "data = pd.read_csv('emotions.csv')\n",
    "X = data.drop('label', axis=1)\n",
    "y = data['label']"
   ]
  },
  {
   "cell_type": "code",
   "execution_count": 7,
   "id": "5c0393ad",
   "metadata": {},
   "outputs": [],
   "source": [
    "noise = np.random.uniform(5, 10, size=(X.shape[0], 5))\n",
    "X = np.hstack((X, noise))"
   ]
  },
  {
   "cell_type": "code",
   "execution_count": 8,
   "id": "f0a144f4",
   "metadata": {},
   "outputs": [],
   "source": [
    "X_train, X_test, y_train, y_test = train_test_split(X, y, test_size=0.33, random_state=0)"
   ]
  },
  {
   "cell_type": "code",
   "execution_count": 9,
   "id": "a15fecfd",
   "metadata": {},
   "outputs": [],
   "source": [
    "clf = SVC(gamma='auto')\n",
    "mutation_scheduler = ExponentialAdapter(0.8, 0.2, 0.01)\n",
    "crossover_scheduler = ExponentialAdapter(0.2, 0.8, 0.01)\n",
    "\n",
    "evolved_estimator = GAFeatureSelectionCV(\n",
    "    estimator=clf,\n",
    "    scoring=\"accuracy\",\n",
    "    population_size=30,\n",
    "    generations=20,\n",
    "    mutation_probability=mutation_scheduler,\n",
    "    crossover_probability=crossover_scheduler,\n",
    "    n_jobs=-1)"
   ]
  },
  {
   "cell_type": "code",
   "execution_count": 10,
   "id": "09d018c1",
   "metadata": {},
   "outputs": [
    {
     "name": "stdout",
     "output_type": "stream",
     "text": [
      "(1428,)\n"
     ]
    }
   ],
   "source": [
    "print(y_train.shape)"
   ]
  },
  {
   "cell_type": "code",
   "execution_count": 11,
   "id": "bb429127",
   "metadata": {},
   "outputs": [],
   "source": [
    "y_train = y_train.values.reshape(-1, 1)"
   ]
  },
  {
   "cell_type": "code",
   "execution_count": 12,
   "id": "3dc735d9",
   "metadata": {},
   "outputs": [
    {
     "ename": "AttributeError",
     "evalue": "'numpy.ndarray' object has no attribute 'iloc'",
     "output_type": "error",
     "traceback": [
      "\u001b[1;31m---------------------------------------------------------------------------\u001b[0m",
      "\u001b[1;31mAttributeError\u001b[0m                            Traceback (most recent call last)",
      "Cell \u001b[1;32mIn[12], line 1\u001b[0m\n\u001b[1;32m----> 1\u001b[0m y_train \u001b[38;5;241m=\u001b[39m y_train\u001b[38;5;241m.\u001b[39miloc[:, \u001b[38;5;241m0\u001b[39m]\u001b[38;5;241m.\u001b[39mvalues\u001b[38;5;241m.\u001b[39mreshape(\u001b[38;5;241m-\u001b[39m\u001b[38;5;241m1\u001b[39m, \u001b[38;5;241m1\u001b[39m)\n",
      "\u001b[1;31mAttributeError\u001b[0m: 'numpy.ndarray' object has no attribute 'iloc'"
     ]
    }
   ],
   "source": [
    "y_train = y_train.iloc[:, 0].values.reshape(-1, 1)"
   ]
  },
  {
   "cell_type": "code",
   "execution_count": 13,
   "id": "a41a22d0",
   "metadata": {},
   "outputs": [
    {
     "name": "stdout",
     "output_type": "stream",
     "text": [
      "(1428, 1)\n"
     ]
    }
   ],
   "source": [
    "print(y_train.shape)"
   ]
  },
  {
   "cell_type": "code",
   "execution_count": 14,
   "id": "bb89e67c",
   "metadata": {},
   "outputs": [],
   "source": [
    "y_train = y_train.ravel()"
   ]
  },
  {
   "cell_type": "code",
   "execution_count": 15,
   "id": "283dd142",
   "metadata": {},
   "outputs": [
    {
     "name": "stdout",
     "output_type": "stream",
     "text": [
      "gen\tnevals\tfitness \tfitness_std\tfitness_max\tfitness_min\n",
      "0  \t30    \t0.342437\t1.11022e-16\t0.342437   \t0.342437   \n",
      "1  \t60    \t0.342437\t1.11022e-16\t0.342437   \t0.342437   \n",
      "2  \t60    \t0.342437\t1.11022e-16\t0.342437   \t0.342437   \n",
      "3  \t60    \t0.342437\t1.11022e-16\t0.342437   \t0.342437   \n",
      "4  \t60    \t0.342437\t1.11022e-16\t0.342437   \t0.342437   \n",
      "5  \t60    \t0.342437\t1.11022e-16\t0.342437   \t0.342437   \n",
      "6  \t60    \t0.342437\t1.11022e-16\t0.342437   \t0.342437   \n",
      "7  \t60    \t0.342437\t1.11022e-16\t0.342437   \t0.342437   \n",
      "8  \t60    \t0.342437\t1.11022e-16\t0.342437   \t0.342437   \n",
      "9  \t60    \t0.342437\t1.11022e-16\t0.342437   \t0.342437   \n",
      "10 \t60    \t0.342437\t1.11022e-16\t0.342437   \t0.342437   \n",
      "11 \t60    \t0.342437\t1.11022e-16\t0.342437   \t0.342437   \n",
      "12 \t60    \t0.342437\t1.11022e-16\t0.342437   \t0.342437   \n",
      "13 \t60    \t0.342437\t1.11022e-16\t0.342437   \t0.342437   \n",
      "14 \t60    \t0.342437\t1.11022e-16\t0.342437   \t0.342437   \n",
      "15 \t60    \t0.342437\t1.11022e-16\t0.342437   \t0.342437   \n",
      "16 \t60    \t0.342437\t1.11022e-16\t0.342437   \t0.342437   \n",
      "17 \t60    \t0.342437\t1.11022e-16\t0.342437   \t0.342437   \n",
      "18 \t60    \t0.342437\t1.11022e-16\t0.342437   \t0.342437   \n",
      "19 \t60    \t0.342437\t1.11022e-16\t0.342437   \t0.342437   \n",
      "20 \t60    \t0.342437\t1.11022e-16\t0.342437   \t0.342437   \n"
     ]
    },
    {
     "data": {
      "text/html": [
       "<style>#sk-container-id-1 {color: black;background-color: white;}#sk-container-id-1 pre{padding: 0;}#sk-container-id-1 div.sk-toggleable {background-color: white;}#sk-container-id-1 label.sk-toggleable__label {cursor: pointer;display: block;width: 100%;margin-bottom: 0;padding: 0.3em;box-sizing: border-box;text-align: center;}#sk-container-id-1 label.sk-toggleable__label-arrow:before {content: \"▸\";float: left;margin-right: 0.25em;color: #696969;}#sk-container-id-1 label.sk-toggleable__label-arrow:hover:before {color: black;}#sk-container-id-1 div.sk-estimator:hover label.sk-toggleable__label-arrow:before {color: black;}#sk-container-id-1 div.sk-toggleable__content {max-height: 0;max-width: 0;overflow: hidden;text-align: left;background-color: #f0f8ff;}#sk-container-id-1 div.sk-toggleable__content pre {margin: 0.2em;color: black;border-radius: 0.25em;background-color: #f0f8ff;}#sk-container-id-1 input.sk-toggleable__control:checked~div.sk-toggleable__content {max-height: 200px;max-width: 100%;overflow: auto;}#sk-container-id-1 input.sk-toggleable__control:checked~label.sk-toggleable__label-arrow:before {content: \"▾\";}#sk-container-id-1 div.sk-estimator input.sk-toggleable__control:checked~label.sk-toggleable__label {background-color: #d4ebff;}#sk-container-id-1 div.sk-label input.sk-toggleable__control:checked~label.sk-toggleable__label {background-color: #d4ebff;}#sk-container-id-1 input.sk-hidden--visually {border: 0;clip: rect(1px 1px 1px 1px);clip: rect(1px, 1px, 1px, 1px);height: 1px;margin: -1px;overflow: hidden;padding: 0;position: absolute;width: 1px;}#sk-container-id-1 div.sk-estimator {font-family: monospace;background-color: #f0f8ff;border: 1px dotted black;border-radius: 0.25em;box-sizing: border-box;margin-bottom: 0.5em;}#sk-container-id-1 div.sk-estimator:hover {background-color: #d4ebff;}#sk-container-id-1 div.sk-parallel-item::after {content: \"\";width: 100%;border-bottom: 1px solid gray;flex-grow: 1;}#sk-container-id-1 div.sk-label:hover label.sk-toggleable__label {background-color: #d4ebff;}#sk-container-id-1 div.sk-serial::before {content: \"\";position: absolute;border-left: 1px solid gray;box-sizing: border-box;top: 0;bottom: 0;left: 50%;z-index: 0;}#sk-container-id-1 div.sk-serial {display: flex;flex-direction: column;align-items: center;background-color: white;padding-right: 0.2em;padding-left: 0.2em;position: relative;}#sk-container-id-1 div.sk-item {position: relative;z-index: 1;}#sk-container-id-1 div.sk-parallel {display: flex;align-items: stretch;justify-content: center;background-color: white;position: relative;}#sk-container-id-1 div.sk-item::before, #sk-container-id-1 div.sk-parallel-item::before {content: \"\";position: absolute;border-left: 1px solid gray;box-sizing: border-box;top: 0;bottom: 0;left: 50%;z-index: -1;}#sk-container-id-1 div.sk-parallel-item {display: flex;flex-direction: column;z-index: 1;position: relative;background-color: white;}#sk-container-id-1 div.sk-parallel-item:first-child::after {align-self: flex-end;width: 50%;}#sk-container-id-1 div.sk-parallel-item:last-child::after {align-self: flex-start;width: 50%;}#sk-container-id-1 div.sk-parallel-item:only-child::after {width: 0;}#sk-container-id-1 div.sk-dashed-wrapped {border: 1px dashed gray;margin: 0 0.4em 0.5em 0.4em;box-sizing: border-box;padding-bottom: 0.4em;background-color: white;}#sk-container-id-1 div.sk-label label {font-family: monospace;font-weight: bold;display: inline-block;line-height: 1.2em;}#sk-container-id-1 div.sk-label-container {text-align: center;}#sk-container-id-1 div.sk-container {/* jupyter's `normalize.less` sets `[hidden] { display: none; }` but bootstrap.min.css set `[hidden] { display: none !important; }` so we also need the `!important` here to be able to override the default hidden behavior on the sphinx rendered scikit-learn.org. See: https://github.com/scikit-learn/scikit-learn/issues/21755 */display: inline-block !important;position: relative;}#sk-container-id-1 div.sk-text-repr-fallback {display: none;}</style><div id=\"sk-container-id-1\" class=\"sk-top-container\"><div class=\"sk-text-repr-fallback\"><pre>GAFeatureSelectionCV(crossover_probability=&lt;sklearn_genetic.schedules.schedulers.ExponentialAdapter object at 0x000001C41FD3AE90&gt;,\n",
       "                     estimator=SVC(gamma=&#x27;auto&#x27;), generations=20,\n",
       "                     mutation_probability=&lt;sklearn_genetic.schedules.schedulers.ExponentialAdapter object at 0x000001C41E9B6010&gt;,\n",
       "                     n_jobs=-1, population_size=30, scoring=&#x27;accuracy&#x27;)</pre><b>In a Jupyter environment, please rerun this cell to show the HTML representation or trust the notebook. <br />On GitHub, the HTML representation is unable to render, please try loading this page with nbviewer.org.</b></div><div class=\"sk-container\" hidden><div class=\"sk-item sk-dashed-wrapped\"><div class=\"sk-label-container\"><div class=\"sk-label sk-toggleable\"><input class=\"sk-toggleable__control sk-hidden--visually\" id=\"sk-estimator-id-1\" type=\"checkbox\" ><label for=\"sk-estimator-id-1\" class=\"sk-toggleable__label sk-toggleable__label-arrow\">GAFeatureSelectionCV</label><div class=\"sk-toggleable__content\"><pre>GAFeatureSelectionCV(crossover_probability=&lt;sklearn_genetic.schedules.schedulers.ExponentialAdapter object at 0x000001C41FD3AE90&gt;,\n",
       "                     estimator=SVC(gamma=&#x27;auto&#x27;), generations=20,\n",
       "                     mutation_probability=&lt;sklearn_genetic.schedules.schedulers.ExponentialAdapter object at 0x000001C41E9B6010&gt;,\n",
       "                     n_jobs=-1, population_size=30, scoring=&#x27;accuracy&#x27;)</pre></div></div></div><div class=\"sk-parallel\"><div class=\"sk-parallel-item\"><div class=\"sk-item\"><div class=\"sk-label-container\"><div class=\"sk-label sk-toggleable\"><input class=\"sk-toggleable__control sk-hidden--visually\" id=\"sk-estimator-id-2\" type=\"checkbox\" ><label for=\"sk-estimator-id-2\" class=\"sk-toggleable__label sk-toggleable__label-arrow\">estimator: SVC</label><div class=\"sk-toggleable__content\"><pre>SVC(gamma=&#x27;auto&#x27;)</pre></div></div></div><div class=\"sk-serial\"><div class=\"sk-item\"><div class=\"sk-estimator sk-toggleable\"><input class=\"sk-toggleable__control sk-hidden--visually\" id=\"sk-estimator-id-3\" type=\"checkbox\" ><label for=\"sk-estimator-id-3\" class=\"sk-toggleable__label sk-toggleable__label-arrow\">SVC</label><div class=\"sk-toggleable__content\"><pre>SVC(gamma=&#x27;auto&#x27;)</pre></div></div></div></div></div></div></div></div></div></div>"
      ],
      "text/plain": [
       "GAFeatureSelectionCV(crossover_probability=<sklearn_genetic.schedules.schedulers.ExponentialAdapter object at 0x000001C41FD3AE90>,\n",
       "                     estimator=SVC(gamma='auto'), generations=20,\n",
       "                     mutation_probability=<sklearn_genetic.schedules.schedulers.ExponentialAdapter object at 0x000001C41E9B6010>,\n",
       "                     n_jobs=-1, population_size=30, scoring='accuracy')"
      ]
     },
     "execution_count": 15,
     "metadata": {},
     "output_type": "execute_result"
    }
   ],
   "source": [
    "evolved_estimator.fit(X_train, y_train)"
   ]
  },
  {
   "cell_type": "code",
   "execution_count": 16,
   "id": "d4d5eb47",
   "metadata": {},
   "outputs": [
    {
     "name": "stdout",
     "output_type": "stream",
     "text": [
      "[False False  True ...  True False False]\n"
     ]
    }
   ],
   "source": [
    "features = evolved_estimator.support_\n",
    "print(features)"
   ]
  },
  {
   "cell_type": "code",
   "execution_count": 17,
   "id": "4a431b44",
   "metadata": {},
   "outputs": [
    {
     "name": "stdout",
     "output_type": "stream",
     "text": [
      "0.31107954545454547\n"
     ]
    }
   ],
   "source": [
    "y_predict_ga = evolved_estimator.predict(X_test)\n",
    "print(accuracy_score(y_test, y_predict_ga))"
   ]
  },
  {
   "cell_type": "code",
   "execution_count": 18,
   "id": "28b168c5",
   "metadata": {},
   "outputs": [],
   "source": [
    "X_reduced = evolved_estimator.transform(X_test)"
   ]
  },
  {
   "cell_type": "code",
   "execution_count": 19,
   "id": "12c9bf98",
   "metadata": {},
   "outputs": [
    {
     "name": "stdout",
     "output_type": "stream",
     "text": [
      "Number of Selected Features: 2553\n"
     ]
    }
   ],
   "source": [
    "print(\"Number of Selected Features:\", len(features))"
   ]
  },
  {
   "cell_type": "code",
   "execution_count": null,
   "id": "b31d3a12",
   "metadata": {},
   "outputs": [],
   "source": []
  }
 ],
 "metadata": {
  "kernelspec": {
   "display_name": "Python 3 (ipykernel)",
   "language": "python",
   "name": "python3"
  },
  "language_info": {
   "codemirror_mode": {
    "name": "ipython",
    "version": 3
   },
   "file_extension": ".py",
   "mimetype": "text/x-python",
   "name": "python",
   "nbconvert_exporter": "python",
   "pygments_lexer": "ipython3",
   "version": "3.11.3"
  }
 },
 "nbformat": 4,
 "nbformat_minor": 5
}
